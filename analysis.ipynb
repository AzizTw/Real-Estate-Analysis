{
 "cells": [
  {
   "attachments": {},
   "cell_type": "markdown",
   "metadata": {},
   "source": [
    "# Saudi Arabia Real Estate Analysis\n",
    "> By Abdulaziz AlTwaijri"
   ]
  },
  {
   "attachments": {},
   "cell_type": "markdown",
   "metadata": {},
   "source": [
    "## 1- Introduction\n",
    "\n",
    "This dataset, sourced from [aqar.fm](https://sa.aqar.fm/), provides a comprehensive collection of real estate listings in Saudi Arabia. It includes properties available for sale or rent and covers a wide range of listing attributes and pricing information. The dataset represents all publicly accessible listings up until the date of collection (2023/05/03).\n",
    "\n",
    "The dataset was downloaded from [Kaggle](https://www.kaggle.com/datasets/mohdph/saudi-arabia-real-estate-dataset) - `database.db (969.8 MB)`\n",
    "\n",
    "\n",
    "### 1.A Dataset Description\n",
    "\n",
    "The dataset consists of a single table, \"Listings,\" which includes various attributes describing the real estate listings. Here is a brief description of the columns:\n",
    "\n",
    "- **id**: Unique identifier for each listing.\n",
    "- **uri**: String representing the listing's URI.\n",
    "- **title**: Title of the listing.\n",
    "- **price**: Price of the listing in Saudi Riyal.\n",
    "- **content**: Textual description of the listing.\n",
    "- **imgs**: JSON array containing image URLs associated with the listing.\n",
    "- **refresh**: Unix timestamp indicating the last update time of the listing.\n",
    "- **category**: Integer representing the category of the listing.\n",
    "- **beds**: Number of beds in the listing.\n",
    "- **livings**: Number of living rooms in the listing.\n",
    "- **wc**: Number of bathrooms in the listing.\n",
    "- **area**: Area of the listing.\n",
    "- **type**: Integer representing the type of the listing.\n",
    "- **street_width**: Width of the street where the listing is located.\n",
    "- **age**: Age of the listing.\n",
    "- **last_update**: Unix timestamp indicating the most recent update time.\n",
    "- **street_direction**: Integer representing the street direction of the listing.\n",
    "- **ketchen**: Binary value indicating whether the listing has a kitchen.\n",
    "- **ac**: Binary value indicating whether the listing has air conditioning.\n",
    "- **furnished**: Binary value indicating whether the listing is furnished.\n",
    "- **location.lat**: Latitude of the listing's location.\n",
    "- **location.lng**: Longitude of the listing's location.\n",
    "- **path**: Path to the listing page.\n",
    "- **user.review**: Average user review rating for the listing.\n",
    "- **user.img**: Image associated with the listing user.\n",
    "- **user.name**: Name of the listing user.\n",
    "- **user.phone**: Phone number of the listing user.\n",
    "- **user.iam_verified**: Binary value indicating whether the listing user is verified.\n",
    "- **user.rega_id**: Identifier for the listing user's registration.\n",
    "- **native.logo**: Logo associated with the native source.\n",
    "- **native.title**: Title of the native source.\n",
    "- **native.image**: Image associated with the native source.\n",
    "- **native.description**: Description of the native source.\n",
    "- **native.external_url**: External URL of the native source.\n",
    "- **rent_period**: Integer representing the rental period.\n",
    "- **city**: City of the listing in Arabic.\n",
    "- **city_id**: Identifier for the listing's city.\n",
    "- **district**: District of the listing in Arabic.\n",
    "- **district_id**: Identifier for the listing's district.\n",
    "- **width**: Width of the listing.\n",
    "- **length**: Length of the listing.\n",
    "- **advertiser_type**: Type of the listing user.\n",
    "- **create_time**: Unix timestamp indicating the creation time of the listing.\n",
    "- **has_extended_details**: Binary value indicating whether the listing has extended details.\n",
    "- **daily_rentable**: Binary value indicating whether the listing is available for daily rent.\n",
    "\n",
    "## 2- Objective\n",
    "The objective is to draw some insights from the data and try to build a model that can predict the price of a property based on its features."
   ]
  },
  {
   "cell_type": "code",
   "execution_count": 1,
   "metadata": {},
   "outputs": [
    {
     "data": {
      "text/html": [
       "<div>\n",
       "<style scoped>\n",
       "    .dataframe tbody tr th:only-of-type {\n",
       "        vertical-align: middle;\n",
       "    }\n",
       "\n",
       "    .dataframe tbody tr th {\n",
       "        vertical-align: top;\n",
       "    }\n",
       "\n",
       "    .dataframe thead th {\n",
       "        text-align: right;\n",
       "    }\n",
       "</style>\n",
       "<table border=\"1\" class=\"dataframe\">\n",
       "  <thead>\n",
       "    <tr style=\"text-align: right;\">\n",
       "      <th></th>\n",
       "      <th>user_id</th>\n",
       "      <th>id</th>\n",
       "      <th>uri</th>\n",
       "      <th>title</th>\n",
       "      <th>price</th>\n",
       "      <th>content</th>\n",
       "      <th>imgs</th>\n",
       "      <th>refresh</th>\n",
       "      <th>category</th>\n",
       "      <th>beds</th>\n",
       "      <th>...</th>\n",
       "      <th>district</th>\n",
       "      <th>district_id</th>\n",
       "      <th>width</th>\n",
       "      <th>length</th>\n",
       "      <th>advertiser_type</th>\n",
       "      <th>create_time</th>\n",
       "      <th>has_extended_details</th>\n",
       "      <th>daily_rentable</th>\n",
       "      <th>createdAt</th>\n",
       "      <th>updatedAt</th>\n",
       "    </tr>\n",
       "  </thead>\n",
       "  <tbody>\n",
       "    <tr>\n",
       "      <th>0</th>\n",
       "      <td>10065</td>\n",
       "      <td>4331</td>\n",
       "      <td>شارع-الياقوت-الدار-البيضاء-الرياض</td>\n",
       "      <td>أرض للبيع في شارع الياقوت, الدار البيضاء, الرياض</td>\n",
       "      <td>1958400.0</td>\n",
       "      <td>تجاريه ش ياقوت ٦٠ مساحه ٨١٦ تقريبا</td>\n",
       "      <td>[\"000000000_1627687178830.jpg\"]</td>\n",
       "      <td>1672495809</td>\n",
       "      <td>2</td>\n",
       "      <td>0.0</td>\n",
       "      <td>...</td>\n",
       "      <td>حي الدار البيضاء</td>\n",
       "      <td>424</td>\n",
       "      <td>25.0</td>\n",
       "      <td>32.0</td>\n",
       "      <td>None</td>\n",
       "      <td>1415294130</td>\n",
       "      <td>NaN</td>\n",
       "      <td>0.0</td>\n",
       "      <td>2023-01-01 14:13:28.553 +00:00</td>\n",
       "      <td>2023-01-01 14:13:28.553 +00:00</td>\n",
       "    </tr>\n",
       "    <tr>\n",
       "      <th>1</th>\n",
       "      <td>11005</td>\n",
       "      <td>4837</td>\n",
       "      <td>طريق-الملك-عبدالله-بن-عبدالعزيز-الفرعي-المغرزا...</td>\n",
       "      <td>أرض للبيع في طريق الملك عبدالله بن عبدالعزيز ا...</td>\n",
       "      <td>15078000.0</td>\n",
       "      <td>الارض على طريق الملك عبدالله على شارعين مظاهره...</td>\n",
       "      <td>[\"000000000_1627687181813.jpg\"]</td>\n",
       "      <td>1672040788</td>\n",
       "      <td>2</td>\n",
       "      <td>0.0</td>\n",
       "      <td>...</td>\n",
       "      <td>حي المغرزات</td>\n",
       "      <td>566</td>\n",
       "      <td>NaN</td>\n",
       "      <td>NaN</td>\n",
       "      <td>None</td>\n",
       "      <td>1416054461</td>\n",
       "      <td>NaN</td>\n",
       "      <td>0.0</td>\n",
       "      <td>2023-01-01 14:52:38.169 +00:00</td>\n",
       "      <td>2023-01-01 14:52:38.169 +00:00</td>\n",
       "    </tr>\n",
       "    <tr>\n",
       "      <th>2</th>\n",
       "      <td>8017</td>\n",
       "      <td>5498</td>\n",
       "      <td>5-المملكة-العربية-السعودية-5498</td>\n",
       "      <td>أرض للبيع في 5 المملكة العربية السعودية</td>\n",
       "      <td>8057700.0</td>\n",
       "      <td>الارض استثماريه في محافظة البرك طريق جده جازان...</td>\n",
       "      <td>[\"506610555_1417214243205.jpg\",\"506610555_1417...</td>\n",
       "      <td>1671819056</td>\n",
       "      <td>2</td>\n",
       "      <td>0.0</td>\n",
       "      <td>...</td>\n",
       "      <td>حي الروضة</td>\n",
       "      <td>4100</td>\n",
       "      <td>NaN</td>\n",
       "      <td>NaN</td>\n",
       "      <td>None</td>\n",
       "      <td>1417220044</td>\n",
       "      <td>NaN</td>\n",
       "      <td>0.0</td>\n",
       "      <td>2023-01-01 15:01:52.351 +00:00</td>\n",
       "      <td>2023-01-01 15:01:52.351 +00:00</td>\n",
       "    </tr>\n",
       "  </tbody>\n",
       "</table>\n",
       "<p>3 rows × 48 columns</p>\n",
       "</div>"
      ],
      "text/plain": [
       "   user_id    id                                                uri  \\\n",
       "0    10065  4331                  شارع-الياقوت-الدار-البيضاء-الرياض   \n",
       "1    11005  4837  طريق-الملك-عبدالله-بن-عبدالعزيز-الفرعي-المغرزا...   \n",
       "2     8017  5498                    5-المملكة-العربية-السعودية-5498   \n",
       "\n",
       "                                               title       price  \\\n",
       "0   أرض للبيع في شارع الياقوت, الدار البيضاء, الرياض   1958400.0   \n",
       "1  أرض للبيع في طريق الملك عبدالله بن عبدالعزيز ا...  15078000.0   \n",
       "2            أرض للبيع في 5 المملكة العربية السعودية   8057700.0   \n",
       "\n",
       "                                             content  \\\n",
       "0                 تجاريه ش ياقوت ٦٠ مساحه ٨١٦ تقريبا   \n",
       "1  الارض على طريق الملك عبدالله على شارعين مظاهره...   \n",
       "2  الارض استثماريه في محافظة البرك طريق جده جازان...   \n",
       "\n",
       "                                                imgs     refresh  category  \\\n",
       "0                    [\"000000000_1627687178830.jpg\"]  1672495809         2   \n",
       "1                    [\"000000000_1627687181813.jpg\"]  1672040788         2   \n",
       "2  [\"506610555_1417214243205.jpg\",\"506610555_1417...  1671819056         2   \n",
       "\n",
       "   beds  ...          district  district_id  width  length  advertiser_type  \\\n",
       "0   0.0  ...  حي الدار البيضاء          424   25.0    32.0             None   \n",
       "1   0.0  ...       حي المغرزات          566    NaN     NaN             None   \n",
       "2   0.0  ...         حي الروضة         4100    NaN     NaN             None   \n",
       "\n",
       "   create_time  has_extended_details  daily_rentable  \\\n",
       "0   1415294130                   NaN             0.0   \n",
       "1   1416054461                   NaN             0.0   \n",
       "2   1417220044                   NaN             0.0   \n",
       "\n",
       "                        createdAt                       updatedAt  \n",
       "0  2023-01-01 14:13:28.553 +00:00  2023-01-01 14:13:28.553 +00:00  \n",
       "1  2023-01-01 14:52:38.169 +00:00  2023-01-01 14:52:38.169 +00:00  \n",
       "2  2023-01-01 15:01:52.351 +00:00  2023-01-01 15:01:52.351 +00:00  \n",
       "\n",
       "[3 rows x 48 columns]"
      ]
     },
     "execution_count": 1,
     "metadata": {},
     "output_type": "execute_result"
    }
   ],
   "source": [
    "import numpy as np\n",
    "import pandas as pd\n",
    "import matplotlib.pyplot as plt\n",
    "import seaborn as sns\n",
    "import sqlite3 as sql\n",
    "from IPython.display import display\n",
    "\n",
    "table_name = 'Listings'\n",
    "\n",
    "# Connect to database\n",
    "conn = sql.connect('aqar.db')\n",
    "\n",
    "# Read data from database\n",
    "df = pd.read_sql_query(f'SELECT * FROM {table_name}', conn)\n",
    "\n",
    "# Close connection\n",
    "conn.close()\n",
    "\n",
    "df.head(3)"
   ]
  },
  {
   "attachments": {},
   "cell_type": "markdown",
   "metadata": {},
   "source": [
    "## 3- Cleaning and Exploring the Data\n",
    "> Since cleaning is an iterative process, I will be cleaning and exploring the data at the same time."
   ]
  },
  {
   "cell_type": "code",
   "execution_count": 6,
   "metadata": {},
   "outputs": [
    {
     "name": "stdout",
     "output_type": "stream",
     "text": [
      "<class 'pandas.core.frame.DataFrame'>\n",
      "RangeIndex: 543197 entries, 0 to 543196\n",
      "Data columns (total 48 columns):\n",
      " #   Column                Non-Null Count   Dtype  \n",
      "---  ------                --------------   -----  \n",
      " 0   user_id               543197 non-null  int64  \n",
      " 1   id                    543197 non-null  int64  \n",
      " 2   uri                   543197 non-null  object \n",
      " 3   title                 543182 non-null  object \n",
      " 4   price                 543197 non-null  float64\n",
      " 5   content               542993 non-null  object \n",
      " 6   imgs                  543197 non-null  object \n",
      " 7   refresh               543197 non-null  int64  \n",
      " 8   category              543197 non-null  int64  \n",
      " 9   beds                  336223 non-null  float64\n",
      " 10  livings               336705 non-null  float64\n",
      " 11  wc                    335285 non-null  float64\n",
      " 12  area                  542688 non-null  float64\n",
      " 13  type                  134828 non-null  float64\n",
      " 14  street_width          533094 non-null  float64\n",
      " 15  age                   339061 non-null  float64\n",
      " 16  last_update           543197 non-null  int64  \n",
      " 17  street_direction      471997 non-null  float64\n",
      " 18  ketchen               316945 non-null  float64\n",
      " 19  ac                    81520 non-null   float64\n",
      " 20  furnished             347704 non-null  float64\n",
      " 21  location.lat          543197 non-null  float64\n",
      " 22  location.lng          543197 non-null  float64\n",
      " 23  path                  543197 non-null  object \n",
      " 24  user.review           453962 non-null  float64\n",
      " 25  user.img              367141 non-null  object \n",
      " 26  user.name             538132 non-null  object \n",
      " 27  user.phone            543197 non-null  object \n",
      " 28  user.iam_verified     540262 non-null  float64\n",
      " 29  user.rega_id          272759 non-null  object \n",
      " 30  native.logo           2 non-null       object \n",
      " 31  native.title          2 non-null       object \n",
      " 32  native.image          0 non-null       object \n",
      " 33  native.description    2 non-null       object \n",
      " 34  native.external_url   0 non-null       object \n",
      " 35  rent_period           69854 non-null   float64\n",
      " 36  city                  543197 non-null  object \n",
      " 37  city_id               543197 non-null  int64  \n",
      " 38  district              543197 non-null  object \n",
      " 39  district_id           543197 non-null  int64  \n",
      " 40  width                 489652 non-null  float64\n",
      " 41  length                489461 non-null  float64\n",
      " 42  advertiser_type       535379 non-null  object \n",
      " 43  create_time           543197 non-null  int64  \n",
      " 44  has_extended_details  2187 non-null    float64\n",
      " 45  daily_rentable        317521 non-null  float64\n",
      " 46  createdAt             543197 non-null  object \n",
      " 47  updatedAt             543197 non-null  object \n",
      "dtypes: float64(21), int64(8), object(19)\n",
      "memory usage: 198.9+ MB\n"
     ]
    }
   ],
   "source": [
    "df.info()"
   ]
  },
  {
   "attachments": {},
   "cell_type": "markdown",
   "metadata": {},
   "source": [
    "> This dataset is huge, 500k entries with 48 columns. And some columns have a lot of missing values. Lets deal with them at the end of the cleaning process.\n",
    "\n",
    "> Since there are a lot of columns, I will drop the columns that don't provide any value to the analysis."
   ]
  },
  {
   "cell_type": "code",
   "execution_count": 7,
   "metadata": {},
   "outputs": [],
   "source": [
    "unwanted_columns = {\n",
    " 'content',\n",
    " 'advertiser_type',\n",
    " 'daily_rentable',\n",
    " 'has_extended_details',\n",
    " 'imgs',\n",
    " 'location.lat',\n",
    " 'location.lng',\n",
    " 'native.description',\n",
    " 'native.external_url',\n",
    " 'native.image',\n",
    " 'native.logo',\n",
    " 'native.title',\n",
    " 'type', # We already have `category`, which is a column with no missing values, while type has a lot of missing values.\n",
    " 'path',\n",
    " 'refresh',\n",
    " 'rent_period',\n",
    " 'street_direction',\n",
    " 'title',\n",
    " 'uri',\n",
    " 'user.iam_verified',\n",
    " 'user.img',\n",
    " 'user.name',\n",
    " 'user.phone',\n",
    " 'user.rega_id',\n",
    " 'user.review',\n",
    " 'user_id',\n",
    "'length','width', # Since we have the `area`, we don't need the length and width\n",
    "'last_update','create_time', 'createdAt',   # Since we have `updatedAt`, it is sufficient.\n",
    "}\n",
    "\n",
    "# Rename ketchen to kitchen (Typo from the data source)\n",
    "df.rename(columns={'ketchen': 'kitchen'}, inplace=True)\n",
    "\n",
    "df.drop(columns=unwanted_columns, inplace=True)\n"
   ]
  },
  {
   "cell_type": "code",
   "execution_count": 8,
   "metadata": {},
   "outputs": [
    {
     "data": {
      "text/html": [
       "<div>\n",
       "<style scoped>\n",
       "    .dataframe tbody tr th:only-of-type {\n",
       "        vertical-align: middle;\n",
       "    }\n",
       "\n",
       "    .dataframe tbody tr th {\n",
       "        vertical-align: top;\n",
       "    }\n",
       "\n",
       "    .dataframe thead th {\n",
       "        text-align: right;\n",
       "    }\n",
       "</style>\n",
       "<table border=\"1\" class=\"dataframe\">\n",
       "  <thead>\n",
       "    <tr style=\"text-align: right;\">\n",
       "      <th></th>\n",
       "      <th>id</th>\n",
       "      <th>price</th>\n",
       "      <th>category</th>\n",
       "      <th>beds</th>\n",
       "      <th>livings</th>\n",
       "      <th>wc</th>\n",
       "      <th>area</th>\n",
       "      <th>street_width</th>\n",
       "      <th>age</th>\n",
       "      <th>kitchen</th>\n",
       "      <th>ac</th>\n",
       "      <th>furnished</th>\n",
       "      <th>city</th>\n",
       "      <th>city_id</th>\n",
       "      <th>district</th>\n",
       "      <th>district_id</th>\n",
       "      <th>updatedAt</th>\n",
       "    </tr>\n",
       "  </thead>\n",
       "  <tbody>\n",
       "    <tr>\n",
       "      <th>0</th>\n",
       "      <td>4331</td>\n",
       "      <td>1958400.0</td>\n",
       "      <td>2</td>\n",
       "      <td>0.0</td>\n",
       "      <td>0.0</td>\n",
       "      <td>0.0</td>\n",
       "      <td>816.0</td>\n",
       "      <td>60.0</td>\n",
       "      <td>0.0</td>\n",
       "      <td>0.0</td>\n",
       "      <td>0.0</td>\n",
       "      <td>0.0</td>\n",
       "      <td>الرياض</td>\n",
       "      <td>21</td>\n",
       "      <td>حي الدار البيضاء</td>\n",
       "      <td>424</td>\n",
       "      <td>2023-01-01 14:13:28.553 +00:00</td>\n",
       "    </tr>\n",
       "    <tr>\n",
       "      <th>1</th>\n",
       "      <td>4837</td>\n",
       "      <td>15078000.0</td>\n",
       "      <td>2</td>\n",
       "      <td>0.0</td>\n",
       "      <td>0.0</td>\n",
       "      <td>0.0</td>\n",
       "      <td>1077.0</td>\n",
       "      <td>80.0</td>\n",
       "      <td>0.0</td>\n",
       "      <td>0.0</td>\n",
       "      <td>0.0</td>\n",
       "      <td>0.0</td>\n",
       "      <td>الرياض</td>\n",
       "      <td>21</td>\n",
       "      <td>حي المغرزات</td>\n",
       "      <td>566</td>\n",
       "      <td>2023-01-01 14:52:38.169 +00:00</td>\n",
       "    </tr>\n",
       "    <tr>\n",
       "      <th>2</th>\n",
       "      <td>5498</td>\n",
       "      <td>8057700.0</td>\n",
       "      <td>2</td>\n",
       "      <td>0.0</td>\n",
       "      <td>0.0</td>\n",
       "      <td>0.0</td>\n",
       "      <td>23022.0</td>\n",
       "      <td>15.0</td>\n",
       "      <td>0.0</td>\n",
       "      <td>0.0</td>\n",
       "      <td>0.0</td>\n",
       "      <td>0.0</td>\n",
       "      <td>محايل</td>\n",
       "      <td>92</td>\n",
       "      <td>حي الروضة</td>\n",
       "      <td>4100</td>\n",
       "      <td>2023-01-01 15:01:52.351 +00:00</td>\n",
       "    </tr>\n",
       "  </tbody>\n",
       "</table>\n",
       "</div>"
      ],
      "text/plain": [
       "     id       price  category  beds  livings   wc     area  street_width  age  \\\n",
       "0  4331   1958400.0         2   0.0      0.0  0.0    816.0          60.0  0.0   \n",
       "1  4837  15078000.0         2   0.0      0.0  0.0   1077.0          80.0  0.0   \n",
       "2  5498   8057700.0         2   0.0      0.0  0.0  23022.0          15.0  0.0   \n",
       "\n",
       "   kitchen   ac  furnished    city  city_id          district  district_id  \\\n",
       "0      0.0  0.0        0.0  الرياض       21  حي الدار البيضاء          424   \n",
       "1      0.0  0.0        0.0  الرياض       21       حي المغرزات          566   \n",
       "2      0.0  0.0        0.0   محايل       92         حي الروضة         4100   \n",
       "\n",
       "                        updatedAt  \n",
       "0  2023-01-01 14:13:28.553 +00:00  \n",
       "1  2023-01-01 14:52:38.169 +00:00  \n",
       "2  2023-01-01 15:01:52.351 +00:00  "
      ]
     },
     "execution_count": 8,
     "metadata": {},
     "output_type": "execute_result"
    }
   ],
   "source": [
    "df.head(3)"
   ]
  },
  {
   "attachments": {},
   "cell_type": "markdown",
   "metadata": {},
   "source": [
    "> Now we have more digestible set of columns to work with. With potentially more columns to drop if needed."
   ]
  },
  {
   "cell_type": "code",
   "execution_count": 9,
   "metadata": {},
   "outputs": [
    {
     "data": {
      "text/plain": [
       "0"
      ]
     },
     "execution_count": 9,
     "metadata": {},
     "output_type": "execute_result"
    }
   ],
   "source": [
    "df.duplicated().sum()"
   ]
  },
  {
   "attachments": {},
   "cell_type": "markdown",
   "metadata": {},
   "source": [
    "> We have 0 duplicates, which is great."
   ]
  },
  {
   "attachments": {},
   "cell_type": "markdown",
   "metadata": {},
   "source": [
    "> Lets check the data types of the columns."
   ]
  },
  {
   "cell_type": "code",
   "execution_count": 10,
   "metadata": {},
   "outputs": [
    {
     "data": {
      "text/plain": [
       "id                int64\n",
       "price           float64\n",
       "category          int64\n",
       "beds            float64\n",
       "livings         float64\n",
       "wc              float64\n",
       "area            float64\n",
       "street_width    float64\n",
       "age             float64\n",
       "kitchen         float64\n",
       "ac              float64\n",
       "furnished       float64\n",
       "city             object\n",
       "city_id           int64\n",
       "district         object\n",
       "district_id       int64\n",
       "updatedAt        object\n",
       "dtype: object"
      ]
     },
     "execution_count": 10,
     "metadata": {},
     "output_type": "execute_result"
    }
   ],
   "source": [
    "df.dtypes"
   ]
  },
  {
   "cell_type": "code",
   "execution_count": 11,
   "metadata": {},
   "outputs": [],
   "source": [
    "# Columns that should be boolean\n",
    "boolean_columns = ['kitchen', 'ac', 'furnished']\n",
    "\n",
    "df.loc[:, ['kitchen', 'furnished']] = df.loc[:, ['kitchen', 'furnished']].fillna(False)\n",
    "df.loc[:, ['ac']] = df.loc[:, ['ac']].fillna(True)\n",
    "\n",
    "df.loc[:, boolean_columns] = df.loc[:, boolean_columns].astype(bool)\n",
    "\n",
    "# Columns that should be integer\n",
    "integer_columns = ['beds', 'livings', 'wc']  # I am going to assume that NaN also means 0.\n",
    "                                             # Which is reasonable. Since if there is no beds, then it is 0.\n",
    "\n",
    "# Fill with 0 instead of NaN, so that we can convert to integer.\n",
    "df.loc[:, integer_columns] = df.loc[:, integer_columns].fillna(0)\n",
    "\n",
    "# Convert to integer\n",
    "df.loc[:, integer_columns] = df.loc[:, integer_columns].astype(int)\n",
    "\n",
    "\n",
    "df['updatedAt'] = pd.to_datetime(df['updatedAt'])\n",
    "\n"
   ]
  },
  {
   "attachments": {},
   "cell_type": "markdown",
   "metadata": {},
   "source": [
    "> The categories are integer, but they are actually categorical variables. So lets convert them to categorical variables so that it becomes readable."
   ]
  },
  {
   "cell_type": "code",
   "execution_count": 12,
   "metadata": {},
   "outputs": [],
   "source": [
    "category_mapping = {\n",
    "    1: 'Apartment, rental',\n",
    "    2: 'Land, sell',\n",
    "    3: 'Villa, sell',\n",
    "    4: 'Floor, rental',\n",
    "    5: 'Villa, rental',\n",
    "    6: 'Apartment, sell',\n",
    "    7: 'Building, sell',\n",
    "    8: 'Store, rental',\n",
    "    9: 'House, sell',\n",
    "    10: 'Esterahah, sell',\n",
    "    11: 'House, rental',\n",
    "    12: 'Farm, sell',\n",
    "    13: 'Esterahah, rental',\n",
    "    14: 'Office, rental',\n",
    "    15: 'Land, rental',\n",
    "    16: 'Building, rental',\n",
    "    17: 'Warehouse, rental',\n",
    "    18: 'Campsite, rental',\n",
    "    19: 'Room, rental',\n",
    "    20: 'Store, sell',\n",
    "    21: 'Furnished apartment',\n",
    "    22: 'Floor, sell',\n",
    "    23: 'Chalet, rental'\n",
    "}\n",
    "\n",
    "df['category'] = df['category'].map(category_mapping)"
   ]
  },
  {
   "cell_type": "code",
   "execution_count": 13,
   "metadata": {},
   "outputs": [
    {
     "data": {
      "text/plain": [
       "id                            int64\n",
       "price                       float64\n",
       "category                     object\n",
       "beds                          int32\n",
       "livings                       int32\n",
       "wc                            int32\n",
       "area                        float64\n",
       "street_width                float64\n",
       "age                         float64\n",
       "kitchen                        bool\n",
       "ac                             bool\n",
       "furnished                      bool\n",
       "city                         object\n",
       "city_id                       int64\n",
       "district                     object\n",
       "district_id                   int64\n",
       "updatedAt       datetime64[ns, UTC]\n",
       "dtype: object"
      ]
     },
     "execution_count": 13,
     "metadata": {},
     "output_type": "execute_result"
    }
   ],
   "source": [
    "df.dtypes"
   ]
  },
  {
   "attachments": {},
   "cell_type": "markdown",
   "metadata": {},
   "source": [
    "> Lets see if there are any old listings that haven't been updated for a long time."
   ]
  },
  {
   "cell_type": "code",
   "execution_count": 14,
   "metadata": {},
   "outputs": [
    {
     "data": {
      "text/plain": [
       "(Timestamp('2023-01-01 13:28:57.958000+0000', tz='UTC'),\n",
       " Timestamp('2023-05-03 02:29:05.276000+0000', tz='UTC'))"
      ]
     },
     "execution_count": 14,
     "metadata": {},
     "output_type": "execute_result"
    }
   ],
   "source": [
    "(df.updatedAt).min(), (df.updatedAt).max()"
   ]
  },
  {
   "attachments": {},
   "cell_type": "markdown",
   "metadata": {},
   "source": [
    "> Good, the minimum is still in 2023. Also, that was our only use of the `updatedAt` column, I will drop it now."
   ]
  },
  {
   "cell_type": "code",
   "execution_count": 15,
   "metadata": {},
   "outputs": [],
   "source": [
    "df.drop(columns=['updatedAt'], inplace=True)"
   ]
  },
  {
   "cell_type": "code",
   "execution_count": 16,
   "metadata": {},
   "outputs": [
    {
     "data": {
      "text/plain": [
       "id                   0\n",
       "price                0\n",
       "category             0\n",
       "beds                 0\n",
       "livings              0\n",
       "wc                   0\n",
       "area               509\n",
       "street_width     10103\n",
       "age             204136\n",
       "kitchen              0\n",
       "ac                   0\n",
       "furnished            0\n",
       "city                 0\n",
       "city_id              0\n",
       "district             0\n",
       "district_id          0\n",
       "dtype: int64"
      ]
     },
     "execution_count": 16,
     "metadata": {},
     "output_type": "execute_result"
    }
   ],
   "source": [
    "df.isnull().sum()"
   ]
  },
  {
   "attachments": {},
   "cell_type": "markdown",
   "metadata": {},
   "source": [
    "> Now we have three columns with missing values. Which are `area`, `street_width`, and `age`.\n",
    "\n",
    "> The most important one of them is `area`, and it is hard to fill it with a value. So I will drop the rows with missing values. Thankfully, they are not that many.\n",
    "\n",
    "> Also, the `street_width` column has a lot of missing values, but I would rather to drop 10k rows (out of 500k rows) than to fill it with a potentially misleading value.\n",
    "\n",
    "> For the `age` column, it suffers extremely from missing values, and we cannot virtually fill it with any value. And we cannot afford to drop 200k rows, so I will drop the column. But there is a chance that this variable appears to be important to the model, in that case, maybe it is worth it to drop the rows with missing values. But for now, lets drop the column."
   ]
  },
  {
   "cell_type": "code",
   "execution_count": 17,
   "metadata": {},
   "outputs": [],
   "source": [
    "df.dropna(subset=['area', 'street_width'], inplace=True)\n",
    "df.drop(columns=['age'], inplace=True)"
   ]
  },
  {
   "attachments": {},
   "cell_type": "markdown",
   "metadata": {},
   "source": [
    "> Lets see the count of nulls again."
   ]
  },
  {
   "cell_type": "code",
   "execution_count": 18,
   "metadata": {},
   "outputs": [
    {
     "data": {
      "text/plain": [
       "id              0\n",
       "price           0\n",
       "category        0\n",
       "beds            0\n",
       "livings         0\n",
       "wc              0\n",
       "area            0\n",
       "street_width    0\n",
       "kitchen         0\n",
       "ac              0\n",
       "furnished       0\n",
       "city            0\n",
       "city_id         0\n",
       "district        0\n",
       "district_id     0\n",
       "dtype: int64"
      ]
     },
     "execution_count": 18,
     "metadata": {},
     "output_type": "execute_result"
    }
   ],
   "source": [
    "df.isnull().sum()"
   ]
  },
  {
   "attachments": {},
   "cell_type": "markdown",
   "metadata": {},
   "source": [
    "> Good, now we have a clean dataset to work with."
   ]
  },
  {
   "attachments": {},
   "cell_type": "markdown",
   "metadata": {},
   "source": [
    "### 3.A Exploring the target variable (`price`)"
   ]
  },
  {
   "cell_type": "code",
   "execution_count": 19,
   "metadata": {},
   "outputs": [
    {
     "data": {
      "text/plain": [
       "count    5.330820e+05\n",
       "mean     3.444970e+06\n",
       "std      5.322150e+07\n",
       "min      1.000000e+00\n",
       "25%      4.200000e+05\n",
       "50%      1.000000e+06\n",
       "75%      2.070000e+06\n",
       "max      1.000000e+10\n",
       "Name: price, dtype: float64"
      ]
     },
     "execution_count": 19,
     "metadata": {},
     "output_type": "execute_result"
    }
   ],
   "source": [
    "df.price.describe()"
   ]
  },
  {
   "attachments": {},
   "cell_type": "markdown",
   "metadata": {},
   "source": [
    "> The minimum price is 1, which is weird. Lets see the listing with the minimum price."
   ]
  },
  {
   "cell_type": "code",
   "execution_count": 20,
   "metadata": {},
   "outputs": [
    {
     "data": {
      "text/html": [
       "<div>\n",
       "<style scoped>\n",
       "    .dataframe tbody tr th:only-of-type {\n",
       "        vertical-align: middle;\n",
       "    }\n",
       "\n",
       "    .dataframe tbody tr th {\n",
       "        vertical-align: top;\n",
       "    }\n",
       "\n",
       "    .dataframe thead th {\n",
       "        text-align: right;\n",
       "    }\n",
       "</style>\n",
       "<table border=\"1\" class=\"dataframe\">\n",
       "  <thead>\n",
       "    <tr style=\"text-align: right;\">\n",
       "      <th></th>\n",
       "      <th>id</th>\n",
       "      <th>price</th>\n",
       "      <th>category</th>\n",
       "      <th>beds</th>\n",
       "      <th>livings</th>\n",
       "      <th>wc</th>\n",
       "      <th>area</th>\n",
       "      <th>street_width</th>\n",
       "      <th>kitchen</th>\n",
       "      <th>ac</th>\n",
       "      <th>furnished</th>\n",
       "      <th>city</th>\n",
       "      <th>city_id</th>\n",
       "      <th>district</th>\n",
       "      <th>district_id</th>\n",
       "    </tr>\n",
       "  </thead>\n",
       "  <tbody>\n",
       "    <tr>\n",
       "      <th>25165</th>\n",
       "      <td>4034068</td>\n",
       "      <td>1.0</td>\n",
       "      <td>Chalet, rental</td>\n",
       "      <td>2</td>\n",
       "      <td>1</td>\n",
       "      <td>2</td>\n",
       "      <td>100.0</td>\n",
       "      <td>5.0</td>\n",
       "      <td>True</td>\n",
       "      <td>True</td>\n",
       "      <td>False</td>\n",
       "      <td>ابها</td>\n",
       "      <td>1</td>\n",
       "      <td>حي القرى</td>\n",
       "      <td>3812</td>\n",
       "    </tr>\n",
       "    <tr>\n",
       "      <th>124478</th>\n",
       "      <td>4682690</td>\n",
       "      <td>1.0</td>\n",
       "      <td>Floor, sell</td>\n",
       "      <td>5</td>\n",
       "      <td>1</td>\n",
       "      <td>4</td>\n",
       "      <td>400.0</td>\n",
       "      <td>20.0</td>\n",
       "      <td>False</td>\n",
       "      <td>True</td>\n",
       "      <td>False</td>\n",
       "      <td>جازان</td>\n",
       "      <td>65</td>\n",
       "      <td>حي السويس</td>\n",
       "      <td>152</td>\n",
       "    </tr>\n",
       "    <tr>\n",
       "      <th>136556</th>\n",
       "      <td>4723769</td>\n",
       "      <td>1.0</td>\n",
       "      <td>Store, rental</td>\n",
       "      <td>0</td>\n",
       "      <td>0</td>\n",
       "      <td>0</td>\n",
       "      <td>900.0</td>\n",
       "      <td>50.0</td>\n",
       "      <td>False</td>\n",
       "      <td>True</td>\n",
       "      <td>False</td>\n",
       "      <td>خميس مشيط</td>\n",
       "      <td>70</td>\n",
       "      <td>حي الربيع</td>\n",
       "      <td>4014</td>\n",
       "    </tr>\n",
       "    <tr>\n",
       "      <th>191967</th>\n",
       "      <td>4860874</td>\n",
       "      <td>1.0</td>\n",
       "      <td>Chalet, rental</td>\n",
       "      <td>5</td>\n",
       "      <td>2</td>\n",
       "      <td>4</td>\n",
       "      <td>600.0</td>\n",
       "      <td>60.0</td>\n",
       "      <td>True</td>\n",
       "      <td>True</td>\n",
       "      <td>False</td>\n",
       "      <td>رماح</td>\n",
       "      <td>76</td>\n",
       "      <td>حي رماح</td>\n",
       "      <td>942</td>\n",
       "    </tr>\n",
       "    <tr>\n",
       "      <th>218708</th>\n",
       "      <td>4910494</td>\n",
       "      <td>1.0</td>\n",
       "      <td>Chalet, rental</td>\n",
       "      <td>3</td>\n",
       "      <td>2</td>\n",
       "      <td>5</td>\n",
       "      <td>525.0</td>\n",
       "      <td>5.0</td>\n",
       "      <td>True</td>\n",
       "      <td>True</td>\n",
       "      <td>False</td>\n",
       "      <td>الخبر</td>\n",
       "      <td>12</td>\n",
       "      <td>حي التحلية</td>\n",
       "      <td>1056</td>\n",
       "    </tr>\n",
       "  </tbody>\n",
       "</table>\n",
       "</div>"
      ],
      "text/plain": [
       "             id  price        category  beds  livings  wc   area  \\\n",
       "25165   4034068    1.0  Chalet, rental     2        1   2  100.0   \n",
       "124478  4682690    1.0     Floor, sell     5        1   4  400.0   \n",
       "136556  4723769    1.0   Store, rental     0        0   0  900.0   \n",
       "191967  4860874    1.0  Chalet, rental     5        2   4  600.0   \n",
       "218708  4910494    1.0  Chalet, rental     3        2   5  525.0   \n",
       "\n",
       "        street_width  kitchen    ac  furnished       city  city_id  \\\n",
       "25165            5.0     True  True      False       ابها        1   \n",
       "124478          20.0    False  True      False      جازان       65   \n",
       "136556          50.0    False  True      False  خميس مشيط       70   \n",
       "191967          60.0     True  True      False       رماح       76   \n",
       "218708           5.0     True  True      False      الخبر       12   \n",
       "\n",
       "          district  district_id  \n",
       "25165     حي القرى         3812  \n",
       "124478   حي السويس          152  \n",
       "136556   حي الربيع         4014  \n",
       "191967     حي رماح          942  \n",
       "218708  حي التحلية         1056  "
      ]
     },
     "execution_count": 20,
     "metadata": {},
     "output_type": "execute_result"
    }
   ],
   "source": [
    "# The listings with the minimum price\n",
    "min_price_listings = df[df.price == df.price.min()]\n",
    "min_price_listings.head()"
   ]
  },
  {
   "attachments": {},
   "cell_type": "markdown",
   "metadata": {},
   "source": [
    "> They might be legit.. lets check some of them in Aqar website."
   ]
  },
  {
   "cell_type": "code",
   "execution_count": 21,
   "metadata": {},
   "outputs": [
    {
     "name": "stdout",
     "output_type": "stream",
     "text": [
      "https://sa.aqar.fm/ad/4034068\n",
      "https://sa.aqar.fm/ad/4682690\n",
      "https://sa.aqar.fm/ad/4723769\n",
      "https://sa.aqar.fm/ad/4860874\n",
      "https://sa.aqar.fm/ad/4910494\n",
      "https://sa.aqar.fm/ad/4956226\n",
      "https://sa.aqar.fm/ad/5036838\n",
      "https://sa.aqar.fm/ad/5042924\n",
      "https://sa.aqar.fm/ad/5054639\n",
      "https://sa.aqar.fm/ad/5069468\n",
      "https://sa.aqar.fm/ad/5106952\n",
      "https://sa.aqar.fm/ad/5140414\n",
      "https://sa.aqar.fm/ad/5146412\n",
      "https://sa.aqar.fm/ad/5166936\n",
      "https://sa.aqar.fm/ad/5191269\n",
      "https://sa.aqar.fm/ad/5197415\n",
      "https://sa.aqar.fm/ad/5197897\n",
      "https://sa.aqar.fm/ad/5206912\n",
      "https://sa.aqar.fm/ad/5222911\n",
      "https://sa.aqar.fm/ad/5224724\n",
      "https://sa.aqar.fm/ad/5226389\n",
      "https://sa.aqar.fm/ad/5242593\n",
      "https://sa.aqar.fm/ad/5250093\n",
      "https://sa.aqar.fm/ad/5255325\n",
      "https://sa.aqar.fm/ad/5268040\n",
      "https://sa.aqar.fm/ad/5270618\n",
      "https://sa.aqar.fm/ad/5300801\n",
      "https://sa.aqar.fm/ad/5308196\n",
      "https://sa.aqar.fm/ad/5313730\n",
      "https://sa.aqar.fm/ad/5315751\n"
     ]
    }
   ],
   "source": [
    "url = \"https://sa.aqar.fm/ad/\"\n",
    "\n",
    "for listing in min_price_listings.itertuples():\n",
    "    print(f'{url}{listing.id}')"
   ]
  },
  {
   "attachments": {},
   "cell_type": "markdown",
   "metadata": {},
   "source": [
    "> After closer inspection, apparently some of them are legit. But the most are either not found or closed.\n",
    "\n",
    "> But there is no way that someone is going to sell a property for 1 riyal. The website does not enforce verification of the listing price, so it is possible to put any price you want. The ones putting 1 riyal are either trying to get attention to their listings or they are trolling.\n",
    "\n",
    "> So, I think it is safe to drop the rows with price less than 50 riyals."
   ]
  },
  {
   "cell_type": "code",
   "execution_count": 22,
   "metadata": {},
   "outputs": [],
   "source": [
    "# Dropping rows with price less than 50\n",
    "df = df[df.price >= 50]"
   ]
  },
  {
   "cell_type": "code",
   "execution_count": 23,
   "metadata": {},
   "outputs": [
    {
     "data": {
      "image/png": "[encoded data removed]",
      "text/plain": [
       "<Figure size 720x360 with 1 Axes>"
      ]
     },
     "metadata": {
      "needs_background": "light"
     },
     "output_type": "display_data"
    }
   ],
   "source": [
    "# Plotting the distribution the price.\n",
    "fig, ax = plt.subplots(figsize=(10, 5))\n",
    "sns.histplot(data=df, x='price', ax=ax, bins=100)\n",
    "ax.set_title('Distribution of the price')\n",
    "ax.set_xlabel('Price')\n",
    "ax.set_ylabel('Count')\n",
    "plt.show()\n"
   ]
  },
  {
   "attachments": {},
   "cell_type": "markdown",
   "metadata": {},
   "source": [
    "> The distribution looks weird, there might be some extreme values at the right side of the distribution. They might be outliers, but I will leave them for now."
   ]
  },
  {
   "attachments": {},
   "cell_type": "markdown",
   "metadata": {},
   "source": [
    "> Maybe a log transformation will help."
   ]
  },
  {
   "cell_type": "code",
   "execution_count": 24,
   "metadata": {},
   "outputs": [
    {
     "data": {
      "image/png": "[encoded data removed]",
      "text/plain": [
       "<Figure size 720x360 with 1 Axes>"
      ]
     },
     "metadata": {
      "needs_background": "light"
     },
     "output_type": "display_data"
    }
   ],
   "source": [
    "# Plotting the distribution of the price after log transformation.\n",
    "fig, ax = plt.subplots(figsize=(10, 5))\n",
    "sns.histplot(data=np.log(df['price']), ax=ax, bins=100)\n",
    "\n",
    "# Define the desired x-axis tick positions and labels\n",
    "xticks = [1000, 10000, 100000, 1000000, 10000000]\n",
    "xticklabels = ['1K', '10K', '100K', '1M', '10M']\n",
    "\n",
    "# Set the x-axis tick positions and labels\n",
    "ax.set_xticks(np.log(xticks))\n",
    "ax.set_xticklabels(xticklabels)\n",
    "\n",
    "# Set the title, labels, and display the plot\n",
    "ax.set_title('Distribution of the Price')\n",
    "ax.set_xlabel('Price')\n",
    "ax.set_ylabel('Count')\n",
    "plt.show()"
   ]
  },
  {
   "attachments": {},
   "cell_type": "markdown",
   "metadata": {},
   "source": [
    "> Looks a lot better! We can see now that most of the prices are in 1M range."
   ]
  },
  {
   "attachments": {},
   "cell_type": "markdown",
   "metadata": {},
   "source": [
    "> Lets plot a boxplot to see if there are any outliers."
   ]
  },
  {
   "cell_type": "code",
   "execution_count": 25,
   "metadata": {},
   "outputs": [
    {
     "data": {
      "image/png": "[encoded data removed]",
      "text/plain": [
       "<Figure size 720x360 with 1 Axes>"
      ]
     },
     "metadata": {
      "needs_background": "light"
     },
     "output_type": "display_data"
    }
   ],
   "source": [
    "# Boxplot of the price\n",
    "fig, ax = plt.subplots(figsize=(10, 5))\n",
    "sns.boxplot(data=df, x='price', ax=ax)\n",
    "ax.set_title('Boxplot of the price')\n",
    "ax.set_xlabel('Price')\n",
    "plt.show()"
   ]
  },
  {
   "attachments": {},
   "cell_type": "markdown",
   "metadata": {},
   "source": [
    "> Now the extreme values are more clear. Lets remove them and then plot again."
   ]
  },
  {
   "cell_type": "code",
   "execution_count": 26,
   "metadata": {},
   "outputs": [
    {
     "name": "stdout",
     "output_type": "stream",
     "text": [
      "Records before removing outliers: 533024\n",
      "Records after removing outliers: 482364\n",
      "% of records removed: 9.50%\n"
     ]
    }
   ],
   "source": [
    "# remove outliers from price\n",
    "Q1, Q3 = df['price'].quantile([0.25, 0.75])\n",
    "IQR = Q3 - Q1\n",
    "\n",
    "before = df.shape[0]\n",
    "\n",
    "# If the price is less than Q1 - 1.5 * IQR or greater than Q3 + 1.5 * IQR, remove it\n",
    "df = df[~((df['price'] < (Q1 - 1.5 * IQR)) | (df['price'] > (Q3 + 1.5 * IQR)))]\n",
    "\n",
    "after = df.shape[0]\n",
    "\n",
    "\n",
    "print(f'Records before removing outliers: {before}')\n",
    "print(f'Records after removing outliers: {after}')\n",
    "print(f'% of records removed: {(before - after) / before * 100:.2f}%')"
   ]
  },
  {
   "attachments": {},
   "cell_type": "markdown",
   "metadata": {},
   "source": [
    "> 9.5% is not a lot, I will be fine with dropping them for now. And we can always come back to them later."
   ]
  },
  {
   "cell_type": "code",
   "execution_count": 27,
   "metadata": {},
   "outputs": [
    {
     "data": {
      "image/png": "[encoded data removed]",
      "text/plain": [
       "<Figure size 720x360 with 1 Axes>"
      ]
     },
     "metadata": {
      "needs_background": "light"
     },
     "output_type": "display_data"
    }
   ],
   "source": [
    "# Boxplot of the price\n",
    "fig, ax = plt.subplots(figsize=(10, 5))\n",
    "sns.boxplot(data=df, x='price', ax=ax)\n",
    "ax.set_title('Boxplot of the price')\n",
    "ax.set_xlabel('Price')\n",
    "plt.show()"
   ]
  },
  {
   "attachments": {},
   "cell_type": "markdown",
   "metadata": {},
   "source": [
    "> The boxplot looks a lot better now. And it shows that the median price is around ~0.9M."
   ]
  },
  {
   "attachments": {},
   "cell_type": "markdown",
   "metadata": {},
   "source": [
    "> Lets try to log transform the distribution again."
   ]
  },
  {
   "cell_type": "code",
   "execution_count": 28,
   "metadata": {},
   "outputs": [
    {
     "data": {
      "image/png": "[encoded data removed]",
      "text/plain": [
       "<Figure size 720x360 with 1 Axes>"
      ]
     },
     "metadata": {
      "needs_background": "light"
     },
     "output_type": "display_data"
    }
   ],
   "source": [
    "# Plotting the distribution of the price after log transformation.\n",
    "fig, ax = plt.subplots(figsize=(10, 5))\n",
    "sns.histplot(data=np.log(df['price']), ax=ax, bins=100)\n",
    "\n",
    "# Define the desired x-axis tick positions and labels\n",
    "xticks = [1000, 10000, 100000, 1000000, 10000000]\n",
    "xticklabels = ['1K', '10K', '100K', '1M', '10M']\n",
    "\n",
    "# Set the x-axis tick positions and labels\n",
    "ax.set_xticks(np.log(xticks))\n",
    "ax.set_xticklabels(xticklabels)\n",
    "\n",
    "# Set the title, labels, and display the plot\n",
    "ax.set_title('Distribution of the Price')\n",
    "ax.set_xlabel('Price')\n",
    "ax.set_ylabel('Count')\n",
    "plt.show()"
   ]
  },
  {
   "attachments": {},
   "cell_type": "markdown",
   "metadata": {},
   "source": [
    "### 3.B Exploring other variables\n",
    "\n",
    "It will be easier to ask to explore the other variables if we ask questions about the dataset and try to answer them."
   ]
  },
  {
   "attachments": {},
   "cell_type": "markdown",
   "metadata": {},
   "source": [
    "#### 3.B.I Question 1: What cities have the most/least listings?"
   ]
  },
  {
   "cell_type": "code",
   "execution_count": 29,
   "metadata": {},
   "outputs": [
    {
     "data": {
      "image/png": "[encoded data removed]",
      "text/plain": [
       "<Figure size 720x360 with 1 Axes>"
      ]
     },
     "metadata": {
      "needs_background": "light"
     },
     "output_type": "display_data"
    },
    {
     "data": {
      "image/png": "[encoded data removed]",
      "text/plain": [
       "<Figure size 720x360 with 1 Axes>"
      ]
     },
     "metadata": {
      "needs_background": "light"
     },
     "output_type": "display_data"
    }
   ],
   "source": [
    "# Plotting top 10 cities with the most listings\n",
    "fig, ax = plt.subplots(figsize=(10, 5))\n",
    "\n",
    "# Horizontal count plot\n",
    "sns.countplot(data=df, y='city', ax=ax, order=df['city'].value_counts().iloc[:10].index)\n",
    "ax.set_title('Top 10 cities with the most listings')\n",
    "ax.set_xlabel('City')\n",
    "ax.set_ylabel('Count')\n",
    "plt.show()\n",
    "\n",
    "# Plotting top 10 cities with the least listings\n",
    "fig, ax = plt.subplots(figsize=(10, 5))\n",
    "sns.countplot(data=df, y='city', ax=ax, order=df['city'].value_counts().iloc[-10:].index)\n",
    "ax.set_title('Top 10 cities with the least listings')\n",
    "ax.set_xlabel('City')\n",
    "ax.set_ylabel('Count')\n",
    "plt.show()"
   ]
  },
  {
   "attachments": {},
   "cell_type": "markdown",
   "metadata": {},
   "source": [
    "> The reversed arabic text is an issue. After some googling, I found a [solution](https://stackoverflow.com/questions/54064646/arabic-letters-arent-showing-correctly-in-the-plot) to this problem by using `arabic_reshaper` and `bidi.algorithm`."
   ]
  },
  {
   "cell_type": "code",
   "execution_count": 30,
   "metadata": {},
   "outputs": [],
   "source": [
    "import arabic_reshaper\n",
    "from bidi.algorithm import get_display\n",
    "\n",
    "unique_cities = df['city'].unique()\n",
    "\n",
    "reshaped_cities = {city: get_display(arabic_reshaper.reshape(city)) for city in unique_cities}\n",
    "\n",
    "df['city_reshaped'] = df['city'].map(reshaped_cities)\n"
   ]
  },
  {
   "cell_type": "code",
   "execution_count": 31,
   "metadata": {},
   "outputs": [
    {
     "data": {
      "image/png": "[encoded data removed]",
      "text/plain": [
       "<Figure size 720x360 with 1 Axes>"
      ]
     },
     "metadata": {
      "needs_background": "light"
     },
     "output_type": "display_data"
    },
    {
     "data": {
      "image/png": "[encoded data removed]",
      "text/plain": [
       "<Figure size 720x360 with 1 Axes>"
      ]
     },
     "metadata": {
      "needs_background": "light"
     },
     "output_type": "display_data"
    }
   ],
   "source": [
    "# Plotting top 10 cities with the most listings\n",
    "fig, ax = plt.subplots(figsize=(10, 5))\n",
    "\n",
    "sns.countplot(data=df, y='city_reshaped', ax=ax, order=df['city_reshaped'].value_counts().iloc[:10].index)\n",
    "ax.set_title('Top 7 cities with the most listings')\n",
    "ax.set_xlabel('City')\n",
    "ax.set_ylabel('Count')\n",
    "plt.show()\n",
    "\n",
    "# Plotting top 10 cities with the least listings\n",
    "fig, ax = plt.subplots(figsize=(10, 5))\n",
    "sns.countplot(data=df, y='city_reshaped', ax=ax, order=df['city_reshaped'].value_counts().iloc[-10:].index)\n",
    "ax.set_title('Top 10 cities with the least listings')\n",
    "ax.set_xlabel('City')\n",
    "ax.set_ylabel('Count')\n",
    "plt.show()"
   ]
  },
  {
   "attachments": {},
   "cell_type": "markdown",
   "metadata": {},
   "source": [
    "> Now it looks readable!\n",
    "\n",
    "> We can see that Riyadh has the most listings, followed by Jeddah and Dammam.\n",
    "\n",
    "> And the least listings are in Al Mubarraz, Al Wadiah and Anak. Some of them i've never heard of."
   ]
  },
  {
   "attachments": {},
   "cell_type": "markdown",
   "metadata": {},
   "source": [
    "#### 3.B.II Question 2: What are the most expensive cities on average?"
   ]
  },
  {
   "cell_type": "code",
   "execution_count": 32,
   "metadata": {},
   "outputs": [
    {
     "name": "stderr",
     "output_type": "stream",
     "text": [
      "C:\\Users\\zezot\\AppData\\Roaming\\Python\\Python310\\site-packages\\IPython\\core\\pylabtools.py:151: UserWarning: Glyph 65010 (\\N{ARABIC LIGATURE ALLAH ISOLATED FORM}) missing from current font.\n",
      "  fig.canvas.print_figure(bytes_io, **kw)\n"
     ]
    },
    {
     "data": {
      "image/png": "[encoded data removed]",
      "text/plain": [
       "<Figure size 720x1656 with 1 Axes>"
      ]
     },
     "metadata": {
      "needs_background": "light"
     },
     "output_type": "display_data"
    }
   ],
   "source": [
    "#### Question 2: What are the most/least expensive cities?\n",
    "# Plotting the average price of the cities\n",
    "fig, ax = plt.subplots(figsize=(10, 23))\n",
    "sns.barplot(data=df, x='price', y='city_reshaped', ax=ax, estimator=np.mean, ci=None, order=df.groupby('city_reshaped')['price'].mean().sort_values(ascending=False).index)\n",
    "ax.set_title('Average price of the cities')\n",
    "ax.set_xlabel('Price')\n",
    "ax.set_ylabel('City')\n",
    "plt.show()\n",
    "\n"
   ]
  },
  {
   "attachments": {},
   "cell_type": "markdown",
   "metadata": {},
   "source": [
    "> We can see that the most expensive city is Al Diriyah, followed by Al Mubarraz and Al Riyadh."
   ]
  },
  {
   "attachments": {},
   "cell_type": "markdown",
   "metadata": {},
   "source": [
    "### 3.B.III Question 3: How do the prices vary across the cities?"
   ]
  },
  {
   "cell_type": "code",
   "execution_count": 33,
   "metadata": {},
   "outputs": [
    {
     "data": {
      "image/png": "[encoded data removed]",
      "text/plain": [
       "<Figure size 936x648 with 5 Axes>"
      ]
     },
     "metadata": {
      "needs_background": "light"
     },
     "output_type": "display_data"
    }
   ],
   "source": [
    "# Plotting the distribution of the price after log transformation for each city in the top 5 cities\n",
    "\n",
    "# Get the top 5 cities by mean price\n",
    "top_cities = df.groupby('city_reshaped')['price'].mean().sort_values(ascending=False).index[:5]\n",
    "\n",
    "# Calculate the number of rows and columns for the subplot grid\n",
    "num_rows = 2\n",
    "num_cols = (len(top_cities) + 1) // num_rows\n",
    "\n",
    "# Set up the subplots\n",
    "fig, axes = plt.subplots(nrows=num_rows, ncols=num_cols, figsize=(13, 9))\n",
    "\n",
    "# Flatten the axes array to simplify indexing\n",
    "axes = axes.flatten()\n",
    "\n",
    "# Iterate over the top cities and plot the distribution for each\n",
    "for i, city in enumerate(top_cities):\n",
    "    ax = axes[i]\n",
    "    data = np.log(df[df['city_reshaped'] == city]['price'])\n",
    "    ax.hist(data, bins=100)\n",
    "    ax.set_xticks(np.log([1000, 10000, 100000, 1000000, 10000000]))\n",
    "    ax.set_xticklabels(['1K', '10K', '100K', '1M', '10M'])\n",
    "    ax.set_title(f'Distribution of the Price in {city}')\n",
    "    ax.set_xlabel('Price')\n",
    "    ax.set_ylabel('Count')\n",
    "\n",
    "# Remove empty subplots\n",
    "for j in range(len(top_cities), num_rows * num_cols):\n",
    "    fig.delaxes(axes[j])\n",
    "\n",
    "# Adjust the spacing between subplots\n",
    "plt.tight_layout()\n",
    "\n",
    "# Show the plot\n",
    "plt.show()\n",
    "\n"
   ]
  },
  {
   "attachments": {},
   "cell_type": "markdown",
   "metadata": {},
   "source": [
    "> The distribution of Al Mubarraz is weird, and that is mainly caused by the small number of listings in that city. Since we showed that it is the lowest in terms of number of listings."
   ]
  },
  {
   "cell_type": "code",
   "execution_count": 34,
   "metadata": {},
   "outputs": [
    {
     "data": {
      "text/plain": [
       "5"
      ]
     },
     "execution_count": 34,
     "metadata": {},
     "output_type": "execute_result"
    }
   ],
   "source": [
    "(df.city == 'المبرز').sum()"
   ]
  },
  {
   "attachments": {},
   "cell_type": "markdown",
   "metadata": {},
   "source": [
    "> Yeah.. only 5 listings, so it technically should not be the 2nd most expensive city on average.\n",
    "\n",
    "> Lets see how many cities have low number of listings. I will consider 1000 listings as a low number for cities, and 100 listings for districts."
   ]
  },
  {
   "cell_type": "code",
   "execution_count": 35,
   "metadata": {},
   "outputs": [
    {
     "name": "stdout",
     "output_type": "stream",
     "text": [
      "Number of cities with less that or equal to 500 listings: 57\n",
      "Total number of cities: 97\n",
      "Number of districts with less that or equal to 50 listings: 602\n",
      "Total number of districts: 1080\n"
     ]
    }
   ],
   "source": [
    "cities_thresh = 500\n",
    "districts_thresh = 50\n",
    "\n",
    "print(f'Number of cities with less that or equal to {cities_thresh} listings: {(df.city.value_counts() <= cities_thresh).sum()}')\n",
    "print(f'Total number of cities: {df.city.nunique()}')\n",
    "\n",
    "print(f'Number of districts with less that or equal to {districts_thresh} listings: {(df.district.value_counts() <= districts_thresh).sum()}')\n",
    "print(f'Total number of districts: {df.district.nunique()}')"
   ]
  },
  {
   "attachments": {},
   "cell_type": "markdown",
   "metadata": {},
   "source": [
    "> Lets drop the cities with low number of listings. It might be not be a good idea to not consider some of the cities, but they might mislead the model."
   ]
  },
  {
   "cell_type": "code",
   "execution_count": 36,
   "metadata": {},
   "outputs": [
    {
     "name": "stdout",
     "output_type": "stream",
     "text": [
      "Number of records to be dropped with cities: 9334\n",
      "Number of records to be dropped with districts: 8883\n"
     ]
    }
   ],
   "source": [
    "# Drop cities with less than or equal to 100 listings\n",
    "cities = df.city.value_counts()[df.city.value_counts() <= cities_thresh].index\n",
    "\n",
    "\n",
    "# Drop districts with less than or equal to 25 listings\n",
    "districts = df.district.value_counts()[df.district.value_counts() <= districts_thresh].index\n",
    "\n",
    "print(f'Number of records to be dropped with cities: {df[df.city.isin(cities)].shape[0]}')\n",
    "print(f'Number of records to be dropped with districts: {df[df.district.isin(districts)].shape[0]}')\n"
   ]
  },
  {
   "attachments": {},
   "cell_type": "markdown",
   "metadata": {},
   "source": [
    "> Dropping those records should save us from unexpected distributions due to low number of listings."
   ]
  },
  {
   "cell_type": "code",
   "execution_count": 37,
   "metadata": {},
   "outputs": [],
   "source": [
    "# Dropping records with cities and districts less than or equal to the threshold\n",
    "df = df[~df.city.isin(cities)]\n",
    "df = df[~df.district.isin(districts)]"
   ]
  },
  {
   "attachments": {},
   "cell_type": "markdown",
   "metadata": {},
   "source": [
    "### 3.B.IIII Question 4: What are the most common categories?"
   ]
  },
  {
   "cell_type": "code",
   "execution_count": 38,
   "metadata": {},
   "outputs": [
    {
     "data": {
      "image/png": "[encoded data removed]",
      "text/plain": [
       "<Figure size 720x360 with 1 Axes>"
      ]
     },
     "metadata": {
      "needs_background": "light"
     },
     "output_type": "display_data"
    }
   ],
   "source": [
    "# Plot most common categories \n",
    "fig, ax = plt.subplots(figsize=(10, 5))\n",
    "sns.countplot(data=df, y='category', ax=ax, order=df['category'].value_counts().index)\n",
    "ax.set_title('Most common categories')\n",
    "ax.set_xlabel('Count')\n",
    "ax.set_ylabel('Category')\n",
    "plt.show()\n",
    "\n"
   ]
  },
  {
   "attachments": {},
   "cell_type": "markdown",
   "metadata": {},
   "source": [
    "> Looks like (`Villa, sell`), (`Land, sell`), (`Apartment, sell`) and (`apartment, rental`) are the most common categories. And the others are lower by quite a margin. That gives us a clue on encoding the categories. We can encode the most common categories with their own columns, and the rest with a single column (other).\n",
    "\n",
    "> Lets see if there is any category with very low number of listings."
   ]
  },
  {
   "cell_type": "code",
   "execution_count": 39,
   "metadata": {},
   "outputs": [
    {
     "data": {
      "text/plain": [
       "Campsite, rental            1\n",
       "House, rental             326\n",
       "Chalet, rental            685\n",
       "Farm, sell                996\n",
       "Store, sell              1114\n",
       "Warehouse, rental        1203\n",
       "Furnished apartment      1398\n",
       "Building, rental         2209\n",
       "Office, rental           2399\n",
       "Room, rental             2415\n",
       "House, sell              2775\n",
       "Esterahah, rental        3117\n",
       "Esterahah, sell          3314\n",
       "Land, rental             4209\n",
       "Store, rental            5867\n",
       "Floor, rental            6738\n",
       "Floor, sell              7716\n",
       "Villa, rental           11044\n",
       "Building, sell          11771\n",
       "Apartment, rental       57680\n",
       "Apartment, sell         69877\n",
       "Land, sell             119620\n",
       "Villa, sell            149653\n",
       "Name: category, dtype: int64"
      ]
     },
     "execution_count": 39,
     "metadata": {},
     "output_type": "execute_result"
    }
   ],
   "source": [
    "df.category.value_counts().sort_values(ascending=True)"
   ]
  },
  {
   "attachments": {},
   "cell_type": "markdown",
   "metadata": {},
   "source": [
    "> Yeah, `Campsite, rental` has only 1 record, lets drop it so that it doesn't affect our feature engineering."
   ]
  },
  {
   "cell_type": "code",
   "execution_count": 40,
   "metadata": {},
   "outputs": [],
   "source": [
    "df = df[df.category != 'Campsite, rental']"
   ]
  },
  {
   "cell_type": "code",
   "execution_count": 41,
   "metadata": {},
   "outputs": [
    {
     "data": {
      "text/plain": [
       "House, rental             326\n",
       "Chalet, rental            685\n",
       "Farm, sell                996\n",
       "Store, sell              1114\n",
       "Warehouse, rental        1203\n",
       "Furnished apartment      1398\n",
       "Building, rental         2209\n",
       "Office, rental           2399\n",
       "Room, rental             2415\n",
       "House, sell              2775\n",
       "Esterahah, rental        3117\n",
       "Esterahah, sell          3314\n",
       "Land, rental             4209\n",
       "Store, rental            5867\n",
       "Floor, rental            6738\n",
       "Floor, sell              7716\n",
       "Villa, rental           11044\n",
       "Building, sell          11771\n",
       "Apartment, rental       57680\n",
       "Apartment, sell         69877\n",
       "Land, sell             119620\n",
       "Villa, sell            149653\n",
       "Name: category, dtype: int64"
      ]
     },
     "execution_count": 41,
     "metadata": {},
     "output_type": "execute_result"
    }
   ],
   "source": [
    "df.category.value_counts().sort_values(ascending=True)"
   ]
  },
  {
   "attachments": {},
   "cell_type": "markdown",
   "metadata": {},
   "source": [
    "> Good."
   ]
  },
  {
   "attachments": {},
   "cell_type": "markdown",
   "metadata": {},
   "source": [
    "### 3.B.V Question 5: How different categories of listings vary in price?"
   ]
  },
  {
   "cell_type": "code",
   "execution_count": 42,
   "metadata": {},
   "outputs": [
    {
     "data": {
      "image/png": "[encoded data removed]",
      "text/plain": [
       "<Figure size 720x360 with 1 Axes>"
      ]
     },
     "metadata": {
      "needs_background": "light"
     },
     "output_type": "display_data"
    }
   ],
   "source": [
    "# Plotting the average price of the categories\n",
    "fig, ax = plt.subplots(figsize=(10, 5))\n",
    "sns.barplot(data=df, x='price', y='category', ax=ax, estimator=np.mean, ci=None, order=df.groupby('category')['price'].mean().sort_values(ascending=False).index)\n",
    "ax.set_title('Average price of the categories')\n",
    "ax.set_xlabel('Average Price')\n",
    "ax.set_ylabel('Category')\n",
    "plt.show()\n"
   ]
  },
  {
   "attachments": {},
   "cell_type": "markdown",
   "metadata": {},
   "source": [
    "> Interesting! we can clearly see that properties for sell are more expensive than properties for rent. And that makes sense.\n",
    "\n",
    "> Coming to think of it, we can use this information to create a new feature. We can create a feature that indicates whether the listing is for sell or rent. And then we can drop the `category` column. \n",
    "\n",
    "> However, we do not know if `Furnished apartment` is for rent or sell. But we can assume that it is for rent, since its one of the lowest categories in terms of price."
   ]
  },
  {
   "cell_type": "code",
   "execution_count": 43,
   "metadata": {},
   "outputs": [
    {
     "data": {
      "text/plain": [
       "Villa, sell            149653\n",
       "Land, sell             119620\n",
       "Apartment, sell         69877\n",
       "Apartment, rental       57680\n",
       "Building, sell          11771\n",
       "Villa, rental           11044\n",
       "Floor, sell              7716\n",
       "Floor, rental            6738\n",
       "Store, rental            5867\n",
       "Land, rental             4209\n",
       "Esterahah, sell          3314\n",
       "Esterahah, rental        3117\n",
       "House, sell              2775\n",
       "Room, rental             2415\n",
       "Office, rental           2399\n",
       "Building, rental         2209\n",
       "Furnished apartment      1398\n",
       "Warehouse, rental        1203\n",
       "Store, sell              1114\n",
       "Farm, sell                996\n",
       "Chalet, rental            685\n",
       "House, rental             326\n",
       "Name: category, dtype: int64"
      ]
     },
     "execution_count": 43,
     "metadata": {},
     "output_type": "execute_result"
    }
   ],
   "source": [
    "df.category.value_counts()"
   ]
  },
  {
   "attachments": {},
   "cell_type": "markdown",
   "metadata": {},
   "source": [
    "## 4- Feature Engineering\n",
    "Lets create some new features that might be useful for the model.\n",
    "\n",
    "1. `avg_price_city`: Average price of the city.\n",
    "2. `avg_price_district`: Average price of the district.\n",
    "2. `avg_price_category`: Average price of the category.\n",
    "3. `is_sell`: Whether the listing is for sell or rent."
   ]
  },
  {
   "cell_type": "code",
   "execution_count": 44,
   "metadata": {},
   "outputs": [
    {
     "data": {
      "text/html": [
       "<div>\n",
       "<style scoped>\n",
       "    .dataframe tbody tr th:only-of-type {\n",
       "        vertical-align: middle;\n",
       "    }\n",
       "\n",
       "    .dataframe tbody tr th {\n",
       "        vertical-align: top;\n",
       "    }\n",
       "\n",
       "    .dataframe thead th {\n",
       "        text-align: right;\n",
       "    }\n",
       "</style>\n",
       "<table border=\"1\" class=\"dataframe\">\n",
       "  <thead>\n",
       "    <tr style=\"text-align: right;\">\n",
       "      <th></th>\n",
       "      <th>id</th>\n",
       "      <th>price</th>\n",
       "      <th>category</th>\n",
       "      <th>beds</th>\n",
       "      <th>livings</th>\n",
       "      <th>wc</th>\n",
       "      <th>area</th>\n",
       "      <th>street_width</th>\n",
       "      <th>kitchen</th>\n",
       "      <th>ac</th>\n",
       "      <th>furnished</th>\n",
       "      <th>city</th>\n",
       "      <th>city_id</th>\n",
       "      <th>district</th>\n",
       "      <th>district_id</th>\n",
       "      <th>city_reshaped</th>\n",
       "      <th>avg_price_city</th>\n",
       "    </tr>\n",
       "  </thead>\n",
       "  <tbody>\n",
       "    <tr>\n",
       "      <th>0</th>\n",
       "      <td>4331</td>\n",
       "      <td>1958400.0</td>\n",
       "      <td>Land, sell</td>\n",
       "      <td>0</td>\n",
       "      <td>0</td>\n",
       "      <td>0</td>\n",
       "      <td>816.0</td>\n",
       "      <td>60.0</td>\n",
       "      <td>False</td>\n",
       "      <td>False</td>\n",
       "      <td>False</td>\n",
       "      <td>الرياض</td>\n",
       "      <td>21</td>\n",
       "      <td>حي الدار البيضاء</td>\n",
       "      <td>424</td>\n",
       "      <td>ﺽﺎﻳﺮﻟﺍ</td>\n",
       "      <td>1.413978e+06</td>\n",
       "    </tr>\n",
       "    <tr>\n",
       "      <th>3</th>\n",
       "      <td>6520</td>\n",
       "      <td>50000.0</td>\n",
       "      <td>Land, rental</td>\n",
       "      <td>0</td>\n",
       "      <td>0</td>\n",
       "      <td>0</td>\n",
       "      <td>400.0</td>\n",
       "      <td>35.0</td>\n",
       "      <td>False</td>\n",
       "      <td>False</td>\n",
       "      <td>False</td>\n",
       "      <td>جدة</td>\n",
       "      <td>66</td>\n",
       "      <td>حي الرياض</td>\n",
       "      <td>3490</td>\n",
       "      <td>ﺓﺪﺟ</td>\n",
       "      <td>9.205957e+05</td>\n",
       "    </tr>\n",
       "    <tr>\n",
       "      <th>4</th>\n",
       "      <td>8847</td>\n",
       "      <td>3000000.0</td>\n",
       "      <td>Land, sell</td>\n",
       "      <td>0</td>\n",
       "      <td>0</td>\n",
       "      <td>0</td>\n",
       "      <td>870.0</td>\n",
       "      <td>15.0</td>\n",
       "      <td>False</td>\n",
       "      <td>False</td>\n",
       "      <td>False</td>\n",
       "      <td>الخبر</td>\n",
       "      <td>12</td>\n",
       "      <td>حي الثقبة</td>\n",
       "      <td>1060</td>\n",
       "      <td>ﺮﺒﺨﻟﺍ</td>\n",
       "      <td>1.044857e+06</td>\n",
       "    </tr>\n",
       "    <tr>\n",
       "      <th>5</th>\n",
       "      <td>8968</td>\n",
       "      <td>1050000.0</td>\n",
       "      <td>Land, sell</td>\n",
       "      <td>0</td>\n",
       "      <td>0</td>\n",
       "      <td>0</td>\n",
       "      <td>875.0</td>\n",
       "      <td>30.0</td>\n",
       "      <td>False</td>\n",
       "      <td>False</td>\n",
       "      <td>False</td>\n",
       "      <td>الرياض</td>\n",
       "      <td>21</td>\n",
       "      <td>حي الدار البيضاء</td>\n",
       "      <td>424</td>\n",
       "      <td>ﺽﺎﻳﺮﻟﺍ</td>\n",
       "      <td>1.413978e+06</td>\n",
       "    </tr>\n",
       "    <tr>\n",
       "      <th>6</th>\n",
       "      <td>11244</td>\n",
       "      <td>350000.0</td>\n",
       "      <td>Building, rental</td>\n",
       "      <td>0</td>\n",
       "      <td>0</td>\n",
       "      <td>0</td>\n",
       "      <td>780.0</td>\n",
       "      <td>40.0</td>\n",
       "      <td>False</td>\n",
       "      <td>False</td>\n",
       "      <td>False</td>\n",
       "      <td>الدمام</td>\n",
       "      <td>18</td>\n",
       "      <td>حي طيبة</td>\n",
       "      <td>1318</td>\n",
       "      <td>ﻡﺎﻣﺪﻟﺍ</td>\n",
       "      <td>9.718807e+05</td>\n",
       "    </tr>\n",
       "  </tbody>\n",
       "</table>\n",
       "</div>"
      ],
      "text/plain": [
       "      id      price          category  beds  livings  wc   area  street_width  \\\n",
       "0   4331  1958400.0        Land, sell     0        0   0  816.0          60.0   \n",
       "3   6520    50000.0      Land, rental     0        0   0  400.0          35.0   \n",
       "4   8847  3000000.0        Land, sell     0        0   0  870.0          15.0   \n",
       "5   8968  1050000.0        Land, sell     0        0   0  875.0          30.0   \n",
       "6  11244   350000.0  Building, rental     0        0   0  780.0          40.0   \n",
       "\n",
       "   kitchen     ac  furnished    city  city_id          district  district_id  \\\n",
       "0    False  False      False  الرياض       21  حي الدار البيضاء          424   \n",
       "3    False  False      False     جدة       66         حي الرياض         3490   \n",
       "4    False  False      False   الخبر       12         حي الثقبة         1060   \n",
       "5    False  False      False  الرياض       21  حي الدار البيضاء          424   \n",
       "6    False  False      False  الدمام       18           حي طيبة         1318   \n",
       "\n",
       "  city_reshaped  avg_price_city  \n",
       "0        ﺽﺎﻳﺮﻟﺍ    1.413978e+06  \n",
       "3           ﺓﺪﺟ    9.205957e+05  \n",
       "4         ﺮﺒﺨﻟﺍ    1.044857e+06  \n",
       "5        ﺽﺎﻳﺮﻟﺍ    1.413978e+06  \n",
       "6        ﻡﺎﻣﺪﻟﺍ    9.718807e+05  "
      ]
     },
     "execution_count": 44,
     "metadata": {},
     "output_type": "execute_result"
    }
   ],
   "source": [
    "avg = df.groupby('city').mean()['price']\n",
    "\n",
    "df['avg_price_city'] = df['city'].map(avg)\n",
    "\n",
    "df.head()"
   ]
  },
  {
   "cell_type": "code",
   "execution_count": 45,
   "metadata": {},
   "outputs": [
    {
     "data": {
      "text/html": [
       "<div>\n",
       "<style scoped>\n",
       "    .dataframe tbody tr th:only-of-type {\n",
       "        vertical-align: middle;\n",
       "    }\n",
       "\n",
       "    .dataframe tbody tr th {\n",
       "        vertical-align: top;\n",
       "    }\n",
       "\n",
       "    .dataframe thead th {\n",
       "        text-align: right;\n",
       "    }\n",
       "</style>\n",
       "<table border=\"1\" class=\"dataframe\">\n",
       "  <thead>\n",
       "    <tr style=\"text-align: right;\">\n",
       "      <th></th>\n",
       "      <th>id</th>\n",
       "      <th>price</th>\n",
       "      <th>category</th>\n",
       "      <th>beds</th>\n",
       "      <th>livings</th>\n",
       "      <th>wc</th>\n",
       "      <th>area</th>\n",
       "      <th>street_width</th>\n",
       "      <th>kitchen</th>\n",
       "      <th>ac</th>\n",
       "      <th>furnished</th>\n",
       "      <th>city</th>\n",
       "      <th>city_id</th>\n",
       "      <th>district</th>\n",
       "      <th>district_id</th>\n",
       "      <th>city_reshaped</th>\n",
       "      <th>avg_price_city</th>\n",
       "      <th>avg_price_district</th>\n",
       "    </tr>\n",
       "  </thead>\n",
       "  <tbody>\n",
       "    <tr>\n",
       "      <th>0</th>\n",
       "      <td>4331</td>\n",
       "      <td>1958400.0</td>\n",
       "      <td>Land, sell</td>\n",
       "      <td>0</td>\n",
       "      <td>0</td>\n",
       "      <td>0</td>\n",
       "      <td>816.0</td>\n",
       "      <td>60.0</td>\n",
       "      <td>False</td>\n",
       "      <td>False</td>\n",
       "      <td>False</td>\n",
       "      <td>الرياض</td>\n",
       "      <td>21</td>\n",
       "      <td>حي الدار البيضاء</td>\n",
       "      <td>424</td>\n",
       "      <td>ﺽﺎﻳﺮﻟﺍ</td>\n",
       "      <td>1.413978e+06</td>\n",
       "      <td>8.828761e+05</td>\n",
       "    </tr>\n",
       "    <tr>\n",
       "      <th>3</th>\n",
       "      <td>6520</td>\n",
       "      <td>50000.0</td>\n",
       "      <td>Land, rental</td>\n",
       "      <td>0</td>\n",
       "      <td>0</td>\n",
       "      <td>0</td>\n",
       "      <td>400.0</td>\n",
       "      <td>35.0</td>\n",
       "      <td>False</td>\n",
       "      <td>False</td>\n",
       "      <td>False</td>\n",
       "      <td>جدة</td>\n",
       "      <td>66</td>\n",
       "      <td>حي الرياض</td>\n",
       "      <td>3490</td>\n",
       "      <td>ﺓﺪﺟ</td>\n",
       "      <td>9.205957e+05</td>\n",
       "      <td>9.533200e+05</td>\n",
       "    </tr>\n",
       "    <tr>\n",
       "      <th>4</th>\n",
       "      <td>8847</td>\n",
       "      <td>3000000.0</td>\n",
       "      <td>Land, sell</td>\n",
       "      <td>0</td>\n",
       "      <td>0</td>\n",
       "      <td>0</td>\n",
       "      <td>870.0</td>\n",
       "      <td>15.0</td>\n",
       "      <td>False</td>\n",
       "      <td>False</td>\n",
       "      <td>False</td>\n",
       "      <td>الخبر</td>\n",
       "      <td>12</td>\n",
       "      <td>حي الثقبة</td>\n",
       "      <td>1060</td>\n",
       "      <td>ﺮﺒﺨﻟﺍ</td>\n",
       "      <td>1.044857e+06</td>\n",
       "      <td>1.003358e+06</td>\n",
       "    </tr>\n",
       "    <tr>\n",
       "      <th>5</th>\n",
       "      <td>8968</td>\n",
       "      <td>1050000.0</td>\n",
       "      <td>Land, sell</td>\n",
       "      <td>0</td>\n",
       "      <td>0</td>\n",
       "      <td>0</td>\n",
       "      <td>875.0</td>\n",
       "      <td>30.0</td>\n",
       "      <td>False</td>\n",
       "      <td>False</td>\n",
       "      <td>False</td>\n",
       "      <td>الرياض</td>\n",
       "      <td>21</td>\n",
       "      <td>حي الدار البيضاء</td>\n",
       "      <td>424</td>\n",
       "      <td>ﺽﺎﻳﺮﻟﺍ</td>\n",
       "      <td>1.413978e+06</td>\n",
       "      <td>8.828761e+05</td>\n",
       "    </tr>\n",
       "    <tr>\n",
       "      <th>6</th>\n",
       "      <td>11244</td>\n",
       "      <td>350000.0</td>\n",
       "      <td>Building, rental</td>\n",
       "      <td>0</td>\n",
       "      <td>0</td>\n",
       "      <td>0</td>\n",
       "      <td>780.0</td>\n",
       "      <td>40.0</td>\n",
       "      <td>False</td>\n",
       "      <td>False</td>\n",
       "      <td>False</td>\n",
       "      <td>الدمام</td>\n",
       "      <td>18</td>\n",
       "      <td>حي طيبة</td>\n",
       "      <td>1318</td>\n",
       "      <td>ﻡﺎﻣﺪﻟﺍ</td>\n",
       "      <td>9.718807e+05</td>\n",
       "      <td>1.039047e+06</td>\n",
       "    </tr>\n",
       "  </tbody>\n",
       "</table>\n",
       "</div>"
      ],
      "text/plain": [
       "      id      price          category  beds  livings  wc   area  street_width  \\\n",
       "0   4331  1958400.0        Land, sell     0        0   0  816.0          60.0   \n",
       "3   6520    50000.0      Land, rental     0        0   0  400.0          35.0   \n",
       "4   8847  3000000.0        Land, sell     0        0   0  870.0          15.0   \n",
       "5   8968  1050000.0        Land, sell     0        0   0  875.0          30.0   \n",
       "6  11244   350000.0  Building, rental     0        0   0  780.0          40.0   \n",
       "\n",
       "   kitchen     ac  furnished    city  city_id          district  district_id  \\\n",
       "0    False  False      False  الرياض       21  حي الدار البيضاء          424   \n",
       "3    False  False      False     جدة       66         حي الرياض         3490   \n",
       "4    False  False      False   الخبر       12         حي الثقبة         1060   \n",
       "5    False  False      False  الرياض       21  حي الدار البيضاء          424   \n",
       "6    False  False      False  الدمام       18           حي طيبة         1318   \n",
       "\n",
       "  city_reshaped  avg_price_city  avg_price_district  \n",
       "0        ﺽﺎﻳﺮﻟﺍ    1.413978e+06        8.828761e+05  \n",
       "3           ﺓﺪﺟ    9.205957e+05        9.533200e+05  \n",
       "4         ﺮﺒﺨﻟﺍ    1.044857e+06        1.003358e+06  \n",
       "5        ﺽﺎﻳﺮﻟﺍ    1.413978e+06        8.828761e+05  \n",
       "6        ﻡﺎﻣﺪﻟﺍ    9.718807e+05        1.039047e+06  "
      ]
     },
     "execution_count": 45,
     "metadata": {},
     "output_type": "execute_result"
    }
   ],
   "source": [
    "avg = df.groupby('district').mean()['price']\n",
    "\n",
    "df['avg_price_district'] = df['district'].map(avg)\n",
    "\n",
    "df.head()"
   ]
  },
  {
   "cell_type": "code",
   "execution_count": 46,
   "metadata": {},
   "outputs": [
    {
     "data": {
      "text/html": [
       "<div>\n",
       "<style scoped>\n",
       "    .dataframe tbody tr th:only-of-type {\n",
       "        vertical-align: middle;\n",
       "    }\n",
       "\n",
       "    .dataframe tbody tr th {\n",
       "        vertical-align: top;\n",
       "    }\n",
       "\n",
       "    .dataframe thead th {\n",
       "        text-align: right;\n",
       "    }\n",
       "</style>\n",
       "<table border=\"1\" class=\"dataframe\">\n",
       "  <thead>\n",
       "    <tr style=\"text-align: right;\">\n",
       "      <th></th>\n",
       "      <th>id</th>\n",
       "      <th>price</th>\n",
       "      <th>category</th>\n",
       "      <th>beds</th>\n",
       "      <th>livings</th>\n",
       "      <th>wc</th>\n",
       "      <th>area</th>\n",
       "      <th>street_width</th>\n",
       "      <th>kitchen</th>\n",
       "      <th>ac</th>\n",
       "      <th>furnished</th>\n",
       "      <th>city</th>\n",
       "      <th>city_id</th>\n",
       "      <th>district</th>\n",
       "      <th>district_id</th>\n",
       "      <th>city_reshaped</th>\n",
       "      <th>avg_price_city</th>\n",
       "      <th>avg_price_district</th>\n",
       "      <th>avg_price_category</th>\n",
       "    </tr>\n",
       "  </thead>\n",
       "  <tbody>\n",
       "    <tr>\n",
       "      <th>0</th>\n",
       "      <td>4331</td>\n",
       "      <td>1958400.0</td>\n",
       "      <td>Land, sell</td>\n",
       "      <td>0</td>\n",
       "      <td>0</td>\n",
       "      <td>0</td>\n",
       "      <td>816.0</td>\n",
       "      <td>60.0</td>\n",
       "      <td>False</td>\n",
       "      <td>False</td>\n",
       "      <td>False</td>\n",
       "      <td>الرياض</td>\n",
       "      <td>21</td>\n",
       "      <td>حي الدار البيضاء</td>\n",
       "      <td>424</td>\n",
       "      <td>ﺽﺎﻳﺮﻟﺍ</td>\n",
       "      <td>1.413978e+06</td>\n",
       "      <td>8.828761e+05</td>\n",
       "      <td>1.530812e+06</td>\n",
       "    </tr>\n",
       "    <tr>\n",
       "      <th>3</th>\n",
       "      <td>6520</td>\n",
       "      <td>50000.0</td>\n",
       "      <td>Land, rental</td>\n",
       "      <td>0</td>\n",
       "      <td>0</td>\n",
       "      <td>0</td>\n",
       "      <td>400.0</td>\n",
       "      <td>35.0</td>\n",
       "      <td>False</td>\n",
       "      <td>False</td>\n",
       "      <td>False</td>\n",
       "      <td>جدة</td>\n",
       "      <td>66</td>\n",
       "      <td>حي الرياض</td>\n",
       "      <td>3490</td>\n",
       "      <td>ﺓﺪﺟ</td>\n",
       "      <td>9.205957e+05</td>\n",
       "      <td>9.533200e+05</td>\n",
       "      <td>3.846123e+05</td>\n",
       "    </tr>\n",
       "    <tr>\n",
       "      <th>4</th>\n",
       "      <td>8847</td>\n",
       "      <td>3000000.0</td>\n",
       "      <td>Land, sell</td>\n",
       "      <td>0</td>\n",
       "      <td>0</td>\n",
       "      <td>0</td>\n",
       "      <td>870.0</td>\n",
       "      <td>15.0</td>\n",
       "      <td>False</td>\n",
       "      <td>False</td>\n",
       "      <td>False</td>\n",
       "      <td>الخبر</td>\n",
       "      <td>12</td>\n",
       "      <td>حي الثقبة</td>\n",
       "      <td>1060</td>\n",
       "      <td>ﺮﺒﺨﻟﺍ</td>\n",
       "      <td>1.044857e+06</td>\n",
       "      <td>1.003358e+06</td>\n",
       "      <td>1.530812e+06</td>\n",
       "    </tr>\n",
       "    <tr>\n",
       "      <th>5</th>\n",
       "      <td>8968</td>\n",
       "      <td>1050000.0</td>\n",
       "      <td>Land, sell</td>\n",
       "      <td>0</td>\n",
       "      <td>0</td>\n",
       "      <td>0</td>\n",
       "      <td>875.0</td>\n",
       "      <td>30.0</td>\n",
       "      <td>False</td>\n",
       "      <td>False</td>\n",
       "      <td>False</td>\n",
       "      <td>الرياض</td>\n",
       "      <td>21</td>\n",
       "      <td>حي الدار البيضاء</td>\n",
       "      <td>424</td>\n",
       "      <td>ﺽﺎﻳﺮﻟﺍ</td>\n",
       "      <td>1.413978e+06</td>\n",
       "      <td>8.828761e+05</td>\n",
       "      <td>1.530812e+06</td>\n",
       "    </tr>\n",
       "    <tr>\n",
       "      <th>6</th>\n",
       "      <td>11244</td>\n",
       "      <td>350000.0</td>\n",
       "      <td>Building, rental</td>\n",
       "      <td>0</td>\n",
       "      <td>0</td>\n",
       "      <td>0</td>\n",
       "      <td>780.0</td>\n",
       "      <td>40.0</td>\n",
       "      <td>False</td>\n",
       "      <td>False</td>\n",
       "      <td>False</td>\n",
       "      <td>الدمام</td>\n",
       "      <td>18</td>\n",
       "      <td>حي طيبة</td>\n",
       "      <td>1318</td>\n",
       "      <td>ﻡﺎﻣﺪﻟﺍ</td>\n",
       "      <td>9.718807e+05</td>\n",
       "      <td>1.039047e+06</td>\n",
       "      <td>4.674077e+05</td>\n",
       "    </tr>\n",
       "  </tbody>\n",
       "</table>\n",
       "</div>"
      ],
      "text/plain": [
       "      id      price          category  beds  livings  wc   area  street_width  \\\n",
       "0   4331  1958400.0        Land, sell     0        0   0  816.0          60.0   \n",
       "3   6520    50000.0      Land, rental     0        0   0  400.0          35.0   \n",
       "4   8847  3000000.0        Land, sell     0        0   0  870.0          15.0   \n",
       "5   8968  1050000.0        Land, sell     0        0   0  875.0          30.0   \n",
       "6  11244   350000.0  Building, rental     0        0   0  780.0          40.0   \n",
       "\n",
       "   kitchen     ac  furnished    city  city_id          district  district_id  \\\n",
       "0    False  False      False  الرياض       21  حي الدار البيضاء          424   \n",
       "3    False  False      False     جدة       66         حي الرياض         3490   \n",
       "4    False  False      False   الخبر       12         حي الثقبة         1060   \n",
       "5    False  False      False  الرياض       21  حي الدار البيضاء          424   \n",
       "6    False  False      False  الدمام       18           حي طيبة         1318   \n",
       "\n",
       "  city_reshaped  avg_price_city  avg_price_district  avg_price_category  \n",
       "0        ﺽﺎﻳﺮﻟﺍ    1.413978e+06        8.828761e+05        1.530812e+06  \n",
       "3           ﺓﺪﺟ    9.205957e+05        9.533200e+05        3.846123e+05  \n",
       "4         ﺮﺒﺨﻟﺍ    1.044857e+06        1.003358e+06        1.530812e+06  \n",
       "5        ﺽﺎﻳﺮﻟﺍ    1.413978e+06        8.828761e+05        1.530812e+06  \n",
       "6        ﻡﺎﻣﺪﻟﺍ    9.718807e+05        1.039047e+06        4.674077e+05  "
      ]
     },
     "execution_count": 46,
     "metadata": {},
     "output_type": "execute_result"
    }
   ],
   "source": [
    "avg = df.groupby('category').mean()['price']\n",
    "\n",
    "df['avg_price_category'] = df['category'].map(avg)\n",
    "\n",
    "df.head()"
   ]
  },
  {
   "cell_type": "code",
   "execution_count": 47,
   "metadata": {},
   "outputs": [],
   "source": [
    "# Creating is_sell column\n",
    "df['is_sell'] = df['category'].apply(lambda x: 1 if x.endswith('sell') else 0)"
   ]
  },
  {
   "cell_type": "code",
   "execution_count": 48,
   "metadata": {},
   "outputs": [
    {
     "data": {
      "text/plain": [
       "Index(['id', 'price', 'category', 'beds', 'livings', 'wc', 'area',\n",
       "       'street_width', 'kitchen', 'ac', 'furnished', 'city', 'city_id',\n",
       "       'district', 'district_id', 'city_reshaped', 'avg_price_city',\n",
       "       'avg_price_district', 'avg_price_category', 'is_sell'],\n",
       "      dtype='object')"
      ]
     },
     "execution_count": 48,
     "metadata": {},
     "output_type": "execute_result"
    }
   ],
   "source": [
    "df.columns"
   ]
  },
  {
   "attachments": {},
   "cell_type": "markdown",
   "metadata": {},
   "source": [
    "## 5- Correlation Analysis"
   ]
  },
  {
   "attachments": {},
   "cell_type": "markdown",
   "metadata": {},
   "source": [
    "### 5.A Q: Is there any correlation between the variables?"
   ]
  },
  {
   "cell_type": "code",
   "execution_count": 49,
   "metadata": {},
   "outputs": [
    {
     "data": {
      "image/png": "[encoded data removed]",
      "text/plain": [
       "<Figure size 720x720 with 2 Axes>"
      ]
     },
     "metadata": {
      "needs_background": "light"
     },
     "output_type": "display_data"
    }
   ],
   "source": [
    "# Correlation matrix\n",
    "wanted = ['price', 'beds', 'livings', 'wc', 'area', 'avg_price_category', 'is_sell',\n",
    "       'street_width', 'kitchen', 'ac', 'furnished', 'avg_price_city',\n",
    "       'avg_price_district']\n",
    "\n",
    "corr = df[wanted].corr()\n",
    "\n",
    "# Plotting the correlation matrix\n",
    "fig, ax = plt.subplots(figsize=(10, 10))\n",
    "sns.heatmap(corr, annot=True, ax=ax)\n",
    "plt.show()\n"
   ]
  },
  {
   "attachments": {},
   "cell_type": "markdown",
   "metadata": {},
   "source": [
    "> We can see that properties for sell have a decent correlation with the price. \n",
    "Also, avg_price_category is the highest correlated feature with the price. "
   ]
  },
  {
   "attachments": {},
   "cell_type": "markdown",
   "metadata": {},
   "source": [
    "## 6- Preprocessing"
   ]
  },
  {
   "attachments": {},
   "cell_type": "markdown",
   "metadata": {},
   "source": [
    "### 6.A Selecting the features"
   ]
  },
  {
   "cell_type": "code",
   "execution_count": 50,
   "metadata": {},
   "outputs": [
    {
     "data": {
      "text/html": [
       "<div>\n",
       "<style scoped>\n",
       "    .dataframe tbody tr th:only-of-type {\n",
       "        vertical-align: middle;\n",
       "    }\n",
       "\n",
       "    .dataframe tbody tr th {\n",
       "        vertical-align: top;\n",
       "    }\n",
       "\n",
       "    .dataframe thead th {\n",
       "        text-align: right;\n",
       "    }\n",
       "</style>\n",
       "<table border=\"1\" class=\"dataframe\">\n",
       "  <thead>\n",
       "    <tr style=\"text-align: right;\">\n",
       "      <th></th>\n",
       "      <th>price</th>\n",
       "      <th>beds</th>\n",
       "      <th>livings</th>\n",
       "      <th>wc</th>\n",
       "      <th>area</th>\n",
       "      <th>is_sell</th>\n",
       "      <th>street_width</th>\n",
       "      <th>kitchen</th>\n",
       "      <th>ac</th>\n",
       "      <th>furnished</th>\n",
       "      <th>avg_price_category</th>\n",
       "      <th>avg_price_city</th>\n",
       "      <th>avg_price_district</th>\n",
       "    </tr>\n",
       "  </thead>\n",
       "  <tbody>\n",
       "    <tr>\n",
       "      <th>0</th>\n",
       "      <td>1958400.0</td>\n",
       "      <td>0</td>\n",
       "      <td>0</td>\n",
       "      <td>0</td>\n",
       "      <td>816.0</td>\n",
       "      <td>1</td>\n",
       "      <td>60.0</td>\n",
       "      <td>False</td>\n",
       "      <td>False</td>\n",
       "      <td>False</td>\n",
       "      <td>1.530812e+06</td>\n",
       "      <td>1.413978e+06</td>\n",
       "      <td>882876.105579</td>\n",
       "    </tr>\n",
       "    <tr>\n",
       "      <th>3</th>\n",
       "      <td>50000.0</td>\n",
       "      <td>0</td>\n",
       "      <td>0</td>\n",
       "      <td>0</td>\n",
       "      <td>400.0</td>\n",
       "      <td>0</td>\n",
       "      <td>35.0</td>\n",
       "      <td>False</td>\n",
       "      <td>False</td>\n",
       "      <td>False</td>\n",
       "      <td>3.846123e+05</td>\n",
       "      <td>9.205957e+05</td>\n",
       "      <td>953320.021268</td>\n",
       "    </tr>\n",
       "  </tbody>\n",
       "</table>\n",
       "</div>"
      ],
      "text/plain": [
       "       price  beds  livings  wc   area  is_sell  street_width  kitchen     ac  \\\n",
       "0  1958400.0     0        0   0  816.0        1          60.0    False  False   \n",
       "3    50000.0     0        0   0  400.0        0          35.0    False  False   \n",
       "\n",
       "   furnished  avg_price_category  avg_price_city  avg_price_district  \n",
       "0      False        1.530812e+06    1.413978e+06       882876.105579  \n",
       "3      False        3.846123e+05    9.205957e+05       953320.021268  "
      ]
     },
     "execution_count": 50,
     "metadata": {},
     "output_type": "execute_result"
    }
   ],
   "source": [
    "wanted = ['price', 'beds', 'livings', 'wc', 'area',  'is_sell',\n",
    "       'street_width', 'kitchen', 'ac', 'furnished', 'avg_price_category', 'avg_price_city',\n",
    "       'avg_price_district']\n",
    "\n",
    "# keep only the wanted columns\n",
    "df = df[wanted]\n",
    "\n",
    "df.head(2)"
   ]
  },
  {
   "cell_type": "code",
   "execution_count": 51,
   "metadata": {},
   "outputs": [
    {
     "data": {
      "text/plain": [
       "price                 float64\n",
       "beds                    int32\n",
       "livings                 int32\n",
       "wc                      int32\n",
       "area                  float64\n",
       "is_sell                 int64\n",
       "street_width          float64\n",
       "kitchen                  bool\n",
       "ac                       bool\n",
       "furnished                bool\n",
       "avg_price_category    float64\n",
       "avg_price_city        float64\n",
       "avg_price_district    float64\n",
       "dtype: object"
      ]
     },
     "execution_count": 51,
     "metadata": {},
     "output_type": "execute_result"
    }
   ],
   "source": [
    "df.dtypes"
   ]
  },
  {
   "attachments": {},
   "cell_type": "markdown",
   "metadata": {},
   "source": [
    "## 7- Building the model"
   ]
  },
  {
   "cell_type": "code",
   "execution_count": 52,
   "metadata": {},
   "outputs": [
    {
     "name": "stdout",
     "output_type": "stream",
     "text": [
      "Training R2 Score: 0.9012834955420785\n",
      "Testing R2 Score: 0.8916481462311265\n"
     ]
    }
   ],
   "source": [
    "from sklearn.model_selection import train_test_split\n",
    "from sklearn.metrics import r2_score\n",
    "from xgboost import XGBRegressor\n",
    "\n",
    "wanted = ['price', 'beds', 'livings', 'wc', 'area',  'is_sell',\n",
    "       'street_width', 'kitchen', 'ac', 'furnished', 'avg_price_category', 'avg_price_city',\n",
    "       'avg_price_district']\n",
    "\n",
    "# Prepare the dataset\n",
    "X = df[wanted[1:]]\n",
    "y = df['price']\n",
    "\n",
    "\n",
    "\n",
    "# Split the data into training and test sets\n",
    "X_train, X_test, y_train, y_test = train_test_split(X, y, test_size=0.20, random_state=42)\n",
    "\n",
    "# Create the XGBoost model\n",
    "model = XGBRegressor()\n",
    "\n",
    "# Train the model on the training set\n",
    "model.fit(X_train, y_train)\n",
    "\n",
    "# Make predictions on the training set\n",
    "y_train_pred = model.predict(X_train)\n",
    "\n",
    "# Make predictions on the test set\n",
    "y_test_pred = model.predict(X_test)\n",
    "\n",
    "# Calculate the R2 scores\n",
    "r2_train = r2_score(y_train, y_train_pred)\n",
    "r2_test = r2_score(y_test, y_test_pred)\n",
    "\n",
    "# Print the R2 scores\n",
    "print(\"Training R2 Score:\", r2_train)\n",
    "print(\"Testing R2 Score:\", r2_test)\n"
   ]
  },
  {
   "attachments": {},
   "cell_type": "markdown",
   "metadata": {},
   "source": [
    "> An R2 score of 0.891 on testing data is pretty good! And compared to the training score (0.901) it is not overfitting. Because the difference between the training and testing scores is not that big.\n",
    "\n",
    "> This means that our model can capture **89.16%** of the variance in the testing data."
   ]
  },
  {
   "cell_type": "code",
   "execution_count": 53,
   "metadata": {},
   "outputs": [
    {
     "name": "stdout",
     "output_type": "stream",
     "text": [
      "               Feature  Importance\n",
      "9   avg_price_category    0.603546\n",
      "11  avg_price_district    0.143677\n",
      "10      avg_price_city    0.078599\n",
      "3                 area    0.054434\n",
      "2                   wc    0.036257\n",
      "4              is_sell    0.020759\n",
      "1              livings    0.016465\n",
      "5         street_width    0.015874\n",
      "6              kitchen    0.011643\n",
      "8            furnished    0.011577\n",
      "0                 beds    0.006118\n",
      "7                   ac    0.001052\n"
     ]
    }
   ],
   "source": [
    "importance_scores = model.feature_importances_\n",
    "\n",
    "# Create a DataFrame to display the feature importances\n",
    "feature_importances = pd.DataFrame({'Feature': X.columns, 'Importance': importance_scores})\n",
    "feature_importances = feature_importances.sort_values(by='Importance', ascending=False)\n",
    "\n",
    "print(feature_importances)\n",
    "\n"
   ]
  },
  {
   "attachments": {},
   "cell_type": "markdown",
   "metadata": {},
   "source": [
    "> We can see that `avg_price_category` is the most important feature by a big margin. Followed by `avg_price_district` and `avg_price_city`.\n",
    "\n",
    "This could mean a couple of things:\n",
    "1. The category of the property is the most important factor in determining the price. (e.g. Villa, Land, Apartment, etc..)\n",
    "2. Knowing the district of the property is more indicative of the price than the city.\n"
   ]
  },
  {
   "attachments": {},
   "cell_type": "markdown",
   "metadata": {},
   "source": [
    "### 7.A Trying to minimize the variables used in the model \n",
    "> Lets try the same model but we include only the top 4 most important features in the previous model. This way, we can reduce the number of variables used in the model while maintaining a good performance."
   ]
  },
  {
   "cell_type": "code",
   "execution_count": 54,
   "metadata": {},
   "outputs": [
    {
     "name": "stdout",
     "output_type": "stream",
     "text": [
      "Training R2 Score: 0.8945921503256768\n",
      "Testing R2 Score: 0.8863906183976131\n"
     ]
    }
   ],
   "source": [
    "from sklearn.model_selection import train_test_split\n",
    "from sklearn.metrics import r2_score\n",
    "from xgboost import XGBRegressor\n",
    "\n",
    "top4 = feature_importances.head(4)['Feature'].values\n",
    "\n",
    "# Prepare the dataset\n",
    "X = df[top4]\n",
    "y = df['price']\n",
    "\n",
    "\n",
    "# Split the data into training and test sets\n",
    "X_train, X_test, y_train, y_test = train_test_split(X, y, test_size=0.20, random_state=42)\n",
    "\n",
    "# Create the XGBoost model\n",
    "model = XGBRegressor()\n",
    "\n",
    "# Train the model on the training set\n",
    "model.fit(X_train, y_train)\n",
    "\n",
    "# Make predictions on the training set\n",
    "y_train_pred = model.predict(X_train)\n",
    "\n",
    "# Make predictions on the test set\n",
    "y_test_pred = model.predict(X_test)\n",
    "\n",
    "# Calculate the R2 scores\n",
    "r2_train = r2_score(y_train, y_train_pred)\n",
    "r2_test = r2_score(y_test, y_test_pred)\n",
    "\n",
    "# Print the R2 scores\n",
    "print(\"Training R2 Score:\", r2_train)\n",
    "print(\"Testing R2 Score:\", r2_test)"
   ]
  },
  {
   "attachments": {},
   "cell_type": "markdown",
   "metadata": {},
   "source": [
    "> We have only used 4 variables, and we got a score of 0.866 on testing data. Which is great! we have significantly reduced the number of variables used in the model while maintaining a good performance.\n",
    "\n",
    "> That also means our 4 variables are extremely important in predicting the price."
   ]
  },
  {
   "cell_type": "code",
   "execution_count": 55,
   "metadata": {},
   "outputs": [
    {
     "name": "stdout",
     "output_type": "stream",
     "text": [
      "              Feature  Importance\n",
      "0  avg_price_category    0.600205\n",
      "1  avg_price_district    0.200241\n",
      "2      avg_price_city    0.124380\n",
      "3                area    0.075175\n"
     ]
    }
   ],
   "source": [
    "importance_scores = model.feature_importances_\n",
    "\n",
    "# Create a DataFrame to display the feature importances\n",
    "feature_importances = pd.DataFrame({'Feature': X.columns, 'Importance': importance_scores})\n",
    "feature_importances = feature_importances.sort_values(by='Importance', ascending=False)\n",
    "\n",
    "print(feature_importances)"
   ]
  },
  {
   "attachments": {},
   "cell_type": "markdown",
   "metadata": {},
   "source": [
    "## Conclusion\n",
    "\n",
    "With this dataset taken from Kaggle which was scrapped from aqar.com, our objective was to predict the price of a property given some features. We started by exploring the data and visualizing it. Then we did some feature engineering and preprocessing. And finally we built a model and evaluated it.\n",
    "\n",
    "Some insights we got from this analysis:\n",
    "1. Riyadh, Jeddah and Dammam have the most listings. Which is expected.\n",
    "2. Al Mubarraz, Al Wadiah and Anak have the least listings.\n",
    "3. Al Diriyah, Al Riyadh and [Tarout](https://ar.wikipedia.org/wiki/%D8%AA%D8%A7%D8%B1%D9%88%D8%AA_(%D8%AC%D8%B2%D9%8A%D8%B1%D8%A9)) are the most expensive cities on average. \n",
    "4. The most common categories are Villa for sell, Land for sell, Apartment for sell and Apartment for rent.\n",
    "5. Properties for sell are significantly more expensive than properties for rent.\n",
    "6. The average price of the category was correlated with the price. Followed by the average price of the district.\n",
    "7. The average price of the category was the most important feature in predicting the price. Followed by the average price of the district and the city.\n",
    "\n",
    "\n",
    "Finally, we trained our XGBoost model and got a score of 0.8916 on testing data. Which means that our model can capture/explain **89.16%** of the variance in the testing data."
   ]
  }
 ],
 "metadata": {
  "kernelspec": {
   "display_name": "Python 3",
   "language": "python",
   "name": "python3"
  },
  "language_info": {
   "codemirror_mode": {
    "name": "ipython",
    "version": 3
   },
   "file_extension": ".py",
   "mimetype": "text/x-python",
   "name": "python",
   "nbconvert_exporter": "python",
   "pygments_lexer": "ipython3",
   "version": "3.10.4"
  },
  "orig_nbformat": 4
 },
 "nbformat": 4,
 "nbformat_minor": 2
}
